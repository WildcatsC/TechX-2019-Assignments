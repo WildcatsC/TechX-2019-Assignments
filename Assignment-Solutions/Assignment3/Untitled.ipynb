{
 "cells": [
  {
   "cell_type": "code",
   "execution_count": 1,
   "metadata": {},
   "outputs": [],
   "source": [
    "import pandas as pd\n",
    "\n",
    "df = pd.read_csv('/Users/stevenchan/Documents/TECHX_2019/Self/Assignments/Assignment2/dataset/ramen-ratings.csv')"
   ]
  },
  {
   "cell_type": "code",
   "execution_count": 2,
   "metadata": {},
   "outputs": [],
   "source": [
    " df['Stars'] = pd.to_numeric(df['Stars'])"
   ]
  },
  {
   "cell_type": "code",
   "execution_count": 3,
   "metadata": {},
   "outputs": [
    {
     "data": {
      "text/plain": [
       "Country\n",
       "Australia        3.138636\n",
       "Bangladesh       3.714286\n",
       "Brazil           4.350000\n",
       "Cambodia         4.200000\n",
       "Canada           2.243902\n",
       "China            3.421893\n",
       "Colombia         3.291667\n",
       "Dubai            3.583333\n",
       "Estonia          3.500000\n",
       "Fiji             3.875000\n",
       "Finland          3.583333\n",
       "Germany          3.638889\n",
       "Ghana            3.500000\n",
       "Holland          3.562500\n",
       "Hong Kong        3.801825\n",
       "Hungary          3.611111\n",
       "India            3.395161\n",
       "Indonesia        4.067460\n",
       "Japan            3.981605\n",
       "Malaysia         4.149359\n",
       "Mexico           3.730000\n",
       "Myanmar          3.946429\n",
       "Nepal            3.553571\n",
       "Netherlands      2.483333\n",
       "Nigeria          1.500000\n",
       "Pakistan         3.000000\n",
       "Philippines      3.329787\n",
       "Poland           3.625000\n",
       "Sarawak          4.333333\n",
       "Singapore        4.126147\n",
       "South Korea      3.788026\n",
       "Sweden           3.250000\n",
       "Taiwan           3.665402\n",
       "Thailand         3.384817\n",
       "UK               2.997101\n",
       "USA              3.457043\n",
       "United States    3.750000\n",
       "Vietnam          3.187963\n",
       "Name: Stars, dtype: float64"
      ]
     },
     "execution_count": 3,
     "metadata": {},
     "output_type": "execute_result"
    }
   ],
   "source": [
    "avg = df.groupby(['Country'])['Stars'].mean()\n",
    "avg"
   ]
  },
  {
   "cell_type": "code",
   "execution_count": 4,
   "metadata": {},
   "outputs": [
    {
     "data": {
      "text/plain": [
       "pandas.core.series.Series"
      ]
     },
     "execution_count": 4,
     "metadata": {},
     "output_type": "execute_result"
    }
   ],
   "source": [
    "type(avg)"
   ]
  },
  {
   "cell_type": "code",
   "execution_count": null,
   "metadata": {},
   "outputs": [],
   "source": []
  }
 ],
 "metadata": {
  "kernelspec": {
   "display_name": "Python 3",
   "language": "python",
   "name": "python3"
  },
  "language_info": {
   "codemirror_mode": {
    "name": "ipython",
    "version": 3
   },
   "file_extension": ".py",
   "mimetype": "text/x-python",
   "name": "python",
   "nbconvert_exporter": "python",
   "pygments_lexer": "ipython3",
   "version": "3.7.3"
  }
 },
 "nbformat": 4,
 "nbformat_minor": 2
}
