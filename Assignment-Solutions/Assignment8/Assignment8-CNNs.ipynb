{
 "cells": [
  {
   "cell_type": "markdown",
   "metadata": {
    "collapsed": true
   },
   "source": [
    "# Assignment 8 - Convolutional Neural Networks\n",
    "\n",
    "Congratulations! You have made it to the last assignment of the TechX Machine Learning bootcamp. In the following assignment, you will explore with convolutional neural networks (CNNs) by training a classifier to recognize the difference between images of cats and dogs. The training time of this assignment will take longer than previous ones, so it reccommended to run this on a GPU.\n",
    "\n",
    "Start by downloading the dataset and unzipping to your local environment: [https://techx.blob.core.windows.net/cats-and-dogs/dataset.zip](https://techx.blob.core.windows.net/cats-and-dogs/dataset.zip)"
   ]
  },
  {
   "cell_type": "markdown",
   "metadata": {},
   "source": [
    "### Import Libraries\n",
    "\n",
    "As usual, let's start by importing the necessary libaries."
   ]
  },
  {
   "cell_type": "code",
   "execution_count": 8,
   "metadata": {},
   "outputs": [],
   "source": [
    "from __future__ import print_function\n",
    "from keras.models import Model, Sequential, load_model\n",
    "from keras.layers import Dense, Input, Conv2D, MaxPooling2D, Flatten, Dropout\n",
    "from keras.datasets import mnist\n",
    "from keras.optimizers import Adam\n",
    "from keras.preprocessing import image\n",
    "from keras.applications import VGG16\n",
    "from keras.preprocessing.image import ImageDataGenerator\n",
    "from keras import activations\n",
    "\n",
    "import matplotlib.pyplot as plt\n",
    "import pandas as pd\n",
    "import numpy as np\n",
    "import seaborn as sns\n",
    "import warnings\n",
    "import os\n",
    "import pickle\n",
    "\n",
    "%matplotlib inline\n"
   ]
  },
  {
   "cell_type": "markdown",
   "metadata": {},
   "source": [
    "### Helper Methods\n",
    "Below are some helper methods that have been created for usage later in the assignment."
   ]
  },
  {
   "cell_type": "code",
   "execution_count": 9,
   "metadata": {},
   "outputs": [],
   "source": [
    "def smooth_curve(points, factor=0.8):\n",
    "    smoothed = []\n",
    "    for point in points:\n",
    "        if smoothed:\n",
    "            previous = smoothed[-1]\n",
    "            smoothed.append(previous * factor + point * (1 - factor))\n",
    "        else:\n",
    "            smoothed.append(point)\n",
    "    return smoothed\n",
    "\n",
    "def plot_compare(history, steps=-1):\n",
    "    if steps < 0:\n",
    "        steps = len(history.history['acc'])\n",
    "    acc = smooth_curve(history.history['acc'][:steps])\n",
    "    val_acc = smooth_curve(history.history['val_acc'][:steps])\n",
    "    loss = smooth_curve(history.history['loss'][:steps])\n",
    "    val_loss = smooth_curve(history.history['val_loss'][:steps])\n",
    "    \n",
    "    plt.figure(figsize=(6, 4))\n",
    "    plt.plot(loss, c='#0c7cba', label='Train Loss')\n",
    "    plt.plot(val_loss, c='#0f9d58', label='Val Loss')\n",
    "    plt.xticks(range(0, len(loss), 5))\n",
    "    plt.xlim(0, len(loss))\n",
    "    plt.title('Train Loss: %.3f, Val Loss: %.3f' % (loss[-1], val_loss[-1]), fontsize=12)\n",
    "    plt.legend()\n",
    "    \n",
    "    plt.figure(figsize=(6, 4))\n",
    "    plt.plot(acc, c='#0c7cba', label='Train Acc')\n",
    "    plt.plot(val_acc, c='#0f9d58', label='Val Acc')\n",
    "    plt.xticks(range(0, len(acc), 5))\n",
    "    plt.xlim(0, len(acc))\n",
    "    plt.title('Train Accuracy: %.3f, Val Accuracy: %.3f' % (acc[-1], val_acc[-1]), fontsize=12)\n",
    "    plt.legend()\n",
    " \n",
    "def save_history(history, fn):\n",
    "    with open(fn, 'wb') as fw:\n",
    "        pickle.dump(history.history, fw, protocol=2)\n",
    "\n",
    "def load_history(fn):\n",
    "    class Temp():\n",
    "        pass\n",
    "    history = Temp()\n",
    "    with open(fn, 'rb') as fr:\n",
    "        history.history = pickle.load(fr)\n",
    "    return history"
   ]
  },
  {
   "cell_type": "markdown",
   "metadata": {},
   "source": [
    "### Question 1: Load Data and Prepare Data\n",
    "\n",
    "When it comes to CNNs, we are usually working with data that takes up a large amount of space which means we will need to load the data in batches. You'll also notice that the dataset only has 1500 images for each class, which is not nearly enough data to train an accurate classifier using a deep neural network approach. As a result, we will need to augment our data as well - perform linear transformations on the existing data in order to create additional new data.\n",
    "\n",
    "Luckily, there is [built in functionality in keras](https://keras.io/preprocessing/image/) to help us load our data in batches while augmenting it in real-time. Let's start by using this library to load and prepare our data."
   ]
  },
  {
   "cell_type": "markdown",
   "metadata": {},
   "source": [
    "#### Start by setting the root path of your dataset:"
   ]
  },
  {
   "cell_type": "code",
   "execution_count": 10,
   "metadata": {},
   "outputs": [],
   "source": [
    "## ========== YOUR CODE HERE ========= ##\n",
    "base_dir = 'dataset'\n",
    "train_dir = os.path.join(base_dir, 'train')\n",
    "validation_dir = os.path.join(base_dir, 'validation')\n",
    "test_dir = os.path.join(base_dir, 'test')"
   ]
  },
  {
   "cell_type": "markdown",
   "metadata": {},
   "source": [
    "#### Create instances of the ImageDataGenerator object for the train and test data with the following parameters:\n",
    "1) Train data:\n",
    "- Rescale: 1./255\n",
    "- Rotation Range: 40\n",
    "- Width Shift Range: 0.2\n",
    "- Height Shift Range: 0.2\n",
    "- Shear Range: 0.2\n",
    "- Zoom Range: 0.2\n",
    "- Horizontal Flip: True\n",
    "\n",
    "2) Test data:\n",
    "- Rescale: 1./255\n",
    "\n",
    "#### Use the online documentation for support."
   ]
  },
  {
   "cell_type": "code",
   "execution_count": 14,
   "metadata": {},
   "outputs": [],
   "source": [
    "## ========== YOUR CODE HERE ========= ##\n",
    "train_datagen = ImageDataGenerator(\n",
    "    rescale=1./255,\n",
    "    rotation_range=40,\n",
    "    width_shift_range=0.2,\n",
    "    height_shift_range=0.2,\n",
    "    shear_range=0.2,\n",
    "    zoom_range=0.2,\n",
    "    horizontal_flip=True,)\n",
    "\n",
    "test_datagen = ImageDataGenerator(rescale=1./255)"
   ]
  },
  {
   "cell_type": "markdown",
   "metadata": {},
   "source": [
    "#### Set the directory, target size (150,150), batch size (32), and class mode (binary) on the data generator instances using the .flow_from_directory method. "
   ]
  },
  {
   "cell_type": "code",
   "execution_count": 17,
   "metadata": {},
   "outputs": [
    {
     "name": "stdout",
     "output_type": "stream",
     "text": [
      "Found 2000 images belonging to 2 classes.\n",
      "Found 1000 images belonging to 2 classes.\n"
     ]
    }
   ],
   "source": [
    "## ========== YOUR CODE HERE ========= ##\n",
    "train_generator = train_datagen.flow_from_directory(\n",
    "        train_dir,\n",
    "        target_size=(150, 150),\n",
    "        batch_size=32,\n",
    "        class_mode='binary')\n",
    "\n",
    "validation_generator = test_datagen.flow_from_directory(\n",
    "        validation_dir,\n",
    "        target_size=(150, 150),\n",
    "        batch_size=32,\n",
    "        class_mode='binary')"
   ]
  },
  {
   "cell_type": "markdown",
   "metadata": {},
   "source": [
    "### Question 2: Build and Train Custom Model\n",
    "Now that our data is ready, it is time to start training our model. This section will first go over an example of how to build a custom CNN architecture and train our data on this model. Then you will be given the outline for another custom architecture which you will have to build and train by yourself. "
   ]
  },
  {
   "cell_type": "markdown",
   "metadata": {},
   "source": [
    "#### For the first custom model, we will create and compile a sequential model with the following architecture\n",
    "- Convolution layer with 32 filters, 3x3 kernel, relu activation, and padding\n",
    "- Max pooling layer with a size of 2x2\n",
    "- Flattening layer\n",
    "- Densely connected output layer with dimension of 1 and sigmoid activation function"
   ]
  },
  {
   "cell_type": "code",
   "execution_count": 18,
   "metadata": {
    "scrolled": false
   },
   "outputs": [
    {
     "name": "stdout",
     "output_type": "stream",
     "text": [
      "WARNING:tensorflow:From /Users/stevenchan/anaconda3/lib/python3.7/site-packages/tensorflow/python/framework/op_def_library.py:263: colocate_with (from tensorflow.python.framework.ops) is deprecated and will be removed in a future version.\n",
      "Instructions for updating:\n",
      "Colocations handled automatically by placer.\n"
     ]
    }
   ],
   "source": [
    "# create the model defined above\n",
    "model_custom1 = Sequential()\n",
    "model_custom1.add(Conv2D(32, (3, 3), activation='relu', padding='same', name='conv_1', \n",
    "                 input_shape=(150, 150, 3)))\n",
    "model_custom1.add(MaxPooling2D((2, 2), name='maxpool_1'))\n",
    "model_custom1.add(Flatten())\n",
    "model_custom1.add(Dense(1, activation='sigmoid', name='output'))\n",
    "\n",
    "# compile the model\n",
    "model_custom1.compile(optimizer='adam', loss='binary_crossentropy', metrics=['accuracy'])"
   ]
  },
  {
   "cell_type": "markdown",
   "metadata": {},
   "source": [
    "#### We can print a summary of the architecture as shown below"
   ]
  },
  {
   "cell_type": "code",
   "execution_count": 19,
   "metadata": {
    "scrolled": false
   },
   "outputs": [
    {
     "name": "stdout",
     "output_type": "stream",
     "text": [
      "_________________________________________________________________\n",
      "Layer (type)                 Output Shape              Param #   \n",
      "=================================================================\n",
      "conv_1 (Conv2D)              (None, 150, 150, 32)      896       \n",
      "_________________________________________________________________\n",
      "maxpool_1 (MaxPooling2D)     (None, 75, 75, 32)        0         \n",
      "_________________________________________________________________\n",
      "flatten_1 (Flatten)          (None, 180000)            0         \n",
      "_________________________________________________________________\n",
      "output (Dense)               (None, 1)                 180001    \n",
      "=================================================================\n",
      "Total params: 180,897\n",
      "Trainable params: 180,897\n",
      "Non-trainable params: 0\n",
      "_________________________________________________________________\n"
     ]
    }
   ],
   "source": [
    "model_custom1.summary()"
   ]
  },
  {
   "cell_type": "markdown",
   "metadata": {},
   "source": [
    "#### We can now train and save the model."
   ]
  },
  {
   "cell_type": "code",
   "execution_count": 20,
   "metadata": {
    "scrolled": false
   },
   "outputs": [
    {
     "name": "stdout",
     "output_type": "stream",
     "text": [
      "WARNING:tensorflow:From /Users/stevenchan/anaconda3/lib/python3.7/site-packages/tensorflow/python/ops/math_ops.py:3066: to_int32 (from tensorflow.python.ops.math_ops) is deprecated and will be removed in a future version.\n",
      "Instructions for updating:\n",
      "Use tf.cast instead.\n",
      "Epoch 1/50\n",
      "100/100 [==============================] - 34s 337ms/step - loss: 0.8797 - acc: 0.5563 - val_loss: 0.6430 - val_acc: 0.6034\n",
      "Epoch 2/50\n",
      "100/100 [==============================] - 33s 329ms/step - loss: 0.6495 - acc: 0.6134 - val_loss: 0.6179 - val_acc: 0.6624\n",
      "Epoch 3/50\n",
      "100/100 [==============================] - 33s 334ms/step - loss: 0.6483 - acc: 0.6175 - val_loss: 0.6213 - val_acc: 0.6288\n",
      "Epoch 4/50\n",
      "100/100 [==============================] - 33s 328ms/step - loss: 0.6390 - acc: 0.6288 - val_loss: 0.6046 - val_acc: 0.6553\n",
      "Epoch 5/50\n",
      "100/100 [==============================] - 33s 333ms/step - loss: 0.6238 - acc: 0.6525 - val_loss: 0.6292 - val_acc: 0.6548\n",
      "Epoch 6/50\n",
      "100/100 [==============================] - 33s 333ms/step - loss: 0.6374 - acc: 0.6288 - val_loss: 0.5994 - val_acc: 0.6759\n",
      "Epoch 7/50\n",
      "100/100 [==============================] - 33s 330ms/step - loss: 0.6255 - acc: 0.6456 - val_loss: 0.6001 - val_acc: 0.6821\n",
      "Epoch 8/50\n",
      "100/100 [==============================] - 33s 333ms/step - loss: 0.6117 - acc: 0.6631 - val_loss: 0.5532 - val_acc: 0.7274\n",
      "Epoch 9/50\n",
      "100/100 [==============================] - 33s 330ms/step - loss: 0.6107 - acc: 0.6678 - val_loss: 0.5747 - val_acc: 0.6959\n",
      "Epoch 10/50\n",
      "100/100 [==============================] - 34s 339ms/step - loss: 0.6153 - acc: 0.6622 - val_loss: 0.5639 - val_acc: 0.7024\n",
      "Epoch 11/50\n",
      "100/100 [==============================] - 34s 336ms/step - loss: 0.6184 - acc: 0.6625 - val_loss: 0.5527 - val_acc: 0.7236\n",
      "Epoch 12/50\n",
      "100/100 [==============================] - 34s 336ms/step - loss: 0.6046 - acc: 0.6644 - val_loss: 0.5534 - val_acc: 0.7138\n",
      "Epoch 13/50\n",
      "100/100 [==============================] - 34s 335ms/step - loss: 0.5992 - acc: 0.6841 - val_loss: 0.6544 - val_acc: 0.6579\n",
      "Epoch 14/50\n",
      "100/100 [==============================] - 33s 334ms/step - loss: 0.5992 - acc: 0.6828 - val_loss: 0.5408 - val_acc: 0.7443\n",
      "Epoch 15/50\n",
      "100/100 [==============================] - 34s 339ms/step - loss: 0.5994 - acc: 0.6784 - val_loss: 0.5592 - val_acc: 0.7262\n",
      "Epoch 16/50\n",
      "100/100 [==============================] - 33s 334ms/step - loss: 0.6021 - acc: 0.6837 - val_loss: 0.5489 - val_acc: 0.7191\n",
      "Epoch 17/50\n",
      "100/100 [==============================] - 34s 335ms/step - loss: 0.5971 - acc: 0.6834 - val_loss: 0.5606 - val_acc: 0.7176\n",
      "Epoch 18/50\n",
      "100/100 [==============================] - 34s 335ms/step - loss: 0.6066 - acc: 0.6728 - val_loss: 0.5765 - val_acc: 0.6946\n",
      "Epoch 19/50\n",
      "100/100 [==============================] - 33s 335ms/step - loss: 0.5956 - acc: 0.6862 - val_loss: 0.5589 - val_acc: 0.7138\n",
      "Epoch 20/50\n",
      "100/100 [==============================] - 34s 339ms/step - loss: 0.6064 - acc: 0.6706 - val_loss: 0.5689 - val_acc: 0.7229\n",
      "Epoch 21/50\n",
      "100/100 [==============================] - 34s 335ms/step - loss: 0.5993 - acc: 0.6838 - val_loss: 0.5640 - val_acc: 0.7291\n",
      "Epoch 22/50\n",
      "100/100 [==============================] - 34s 337ms/step - loss: 0.5868 - acc: 0.6856 - val_loss: 0.5774 - val_acc: 0.6991\n",
      "Epoch 23/50\n",
      "100/100 [==============================] - 34s 336ms/step - loss: 0.5979 - acc: 0.6869 - val_loss: 0.5621 - val_acc: 0.7151\n",
      "Epoch 24/50\n",
      "100/100 [==============================] - 34s 335ms/step - loss: 0.5974 - acc: 0.6972 - val_loss: 0.5343 - val_acc: 0.7365\n",
      "Epoch 25/50\n",
      "100/100 [==============================] - 34s 336ms/step - loss: 0.6062 - acc: 0.6678 - val_loss: 0.5415 - val_acc: 0.7352\n",
      "Epoch 26/50\n",
      "100/100 [==============================] - 33s 334ms/step - loss: 0.5931 - acc: 0.6944 - val_loss: 0.5244 - val_acc: 0.7392\n",
      "Epoch 27/50\n",
      "100/100 [==============================] - 36s 363ms/step - loss: 0.5912 - acc: 0.6909 - val_loss: 0.5503 - val_acc: 0.7055\n",
      "Epoch 28/50\n",
      "100/100 [==============================] - 36s 365ms/step - loss: 0.5939 - acc: 0.6847 - val_loss: 0.5401 - val_acc: 0.7354\n",
      "Epoch 29/50\n",
      "100/100 [==============================] - 34s 338ms/step - loss: 0.5914 - acc: 0.6831 - val_loss: 0.5433 - val_acc: 0.7332\n",
      "Epoch 30/50\n",
      "100/100 [==============================] - 34s 341ms/step - loss: 0.5880 - acc: 0.6934 - val_loss: 0.6319 - val_acc: 0.6815\n",
      "Epoch 31/50\n",
      "100/100 [==============================] - 37s 374ms/step - loss: 0.5912 - acc: 0.6925 - val_loss: 0.5843 - val_acc: 0.7113\n",
      "Epoch 32/50\n",
      "100/100 [==============================] - 35s 349ms/step - loss: 0.5831 - acc: 0.6903 - val_loss: 0.6035 - val_acc: 0.6830\n",
      "Epoch 33/50\n",
      "100/100 [==============================] - 34s 345ms/step - loss: 0.5869 - acc: 0.6937 - val_loss: 0.5740 - val_acc: 0.7157\n",
      "Epoch 34/50\n",
      "100/100 [==============================] - 34s 336ms/step - loss: 0.5861 - acc: 0.6978 - val_loss: 0.5599 - val_acc: 0.7197\n",
      "Epoch 35/50\n",
      "100/100 [==============================] - 34s 335ms/step - loss: 0.5934 - acc: 0.6869 - val_loss: 0.5474 - val_acc: 0.7195\n",
      "Epoch 36/50\n",
      "100/100 [==============================] - 33s 330ms/step - loss: 0.5886 - acc: 0.6903 - val_loss: 0.5614 - val_acc: 0.6946\n",
      "Epoch 37/50\n",
      "100/100 [==============================] - 34s 337ms/step - loss: 0.5881 - acc: 0.6950 - val_loss: 0.6369 - val_acc: 0.6758\n",
      "Epoch 38/50\n",
      "100/100 [==============================] - 33s 332ms/step - loss: 0.5793 - acc: 0.6969 - val_loss: 0.6762 - val_acc: 0.6637\n",
      "Epoch 39/50\n",
      "100/100 [==============================] - 34s 338ms/step - loss: 0.5926 - acc: 0.6812 - val_loss: 0.5746 - val_acc: 0.7259\n",
      "Epoch 40/50\n",
      "100/100 [==============================] - 34s 336ms/step - loss: 0.5854 - acc: 0.6766 - val_loss: 0.5616 - val_acc: 0.7081\n",
      "Epoch 41/50\n",
      "100/100 [==============================] - 33s 330ms/step - loss: 0.5907 - acc: 0.7016 - val_loss: 0.5967 - val_acc: 0.7088\n",
      "Epoch 42/50\n",
      "100/100 [==============================] - 34s 336ms/step - loss: 0.6005 - acc: 0.6791 - val_loss: 0.5502 - val_acc: 0.7164\n",
      "Epoch 43/50\n",
      "100/100 [==============================] - 33s 332ms/step - loss: 0.5951 - acc: 0.6784 - val_loss: 0.5507 - val_acc: 0.7229\n",
      "Epoch 44/50\n",
      "100/100 [==============================] - 34s 339ms/step - loss: 0.5935 - acc: 0.6884 - val_loss: 0.5564 - val_acc: 0.7303\n",
      "Epoch 45/50\n",
      "100/100 [==============================] - 33s 334ms/step - loss: 0.5812 - acc: 0.6972 - val_loss: 0.5569 - val_acc: 0.7216\n",
      "Epoch 46/50\n",
      "100/100 [==============================] - 33s 335ms/step - loss: 0.5861 - acc: 0.6866 - val_loss: 0.5867 - val_acc: 0.6872\n",
      "Epoch 47/50\n",
      "100/100 [==============================] - 34s 336ms/step - loss: 0.5761 - acc: 0.7022 - val_loss: 0.5638 - val_acc: 0.7068\n",
      "Epoch 48/50\n",
      "100/100 [==============================] - 33s 333ms/step - loss: 0.5742 - acc: 0.7050 - val_loss: 0.6018 - val_acc: 0.7010\n",
      "Epoch 49/50\n",
      "100/100 [==============================] - 33s 332ms/step - loss: 0.5663 - acc: 0.7056 - val_loss: 0.5907 - val_acc: 0.6942\n",
      "Epoch 50/50\n",
      "100/100 [==============================] - 33s 332ms/step - loss: 0.5970 - acc: 0.6753 - val_loss: 0.5573 - val_acc: 0.7197\n"
     ]
    }
   ],
   "source": [
    "# train model for 50 epochs, with 100 steps per epoch, and 50 validation steps\n",
    "history_custom1 = model_custom1.fit_generator(train_generator, steps_per_epoch=100, epochs=50, \n",
    "                                      validation_data=validation_generator, validation_steps=50, verbose=1)\n",
    "\n",
    "# save the model and its history\n",
    "model_custom1.save('model-custom1.h5')\n",
    "save_history(history_custom1, 'history_custom1.bin')"
   ]
  },
  {
   "cell_type": "markdown",
   "metadata": {},
   "source": [
    "#### Then plot the results."
   ]
  },
  {
   "cell_type": "code",
   "execution_count": 11,
   "metadata": {},
   "outputs": [
    {
     "data": {
      "image/png": "[encoded data removed]",
      "text/plain": [
       "<Figure size 432x288 with 1 Axes>"
      ]
     },
     "metadata": {},
     "output_type": "display_data"
    },
    {
     "data": {
      "image/png": "[encoded data removed]",
      "text/plain": [
       "<Figure size 432x288 with 1 Axes>"
      ]
     },
     "metadata": {},
     "output_type": "display_data"
    }
   ],
   "source": [
    "# plot results\n",
    "history_custom1 = load_history('history_custom1.bin')\n",
    "plot_compare(history_custom1)"
   ]
  },
  {
   "cell_type": "markdown",
   "metadata": {},
   "source": [
    "#### Now it's your turn! Build a new custom model with the following architecture: \n",
    "- Convolution layer with 32 filters, 3x3 kernel, relu activation, and padding\n",
    "- Max pooling layer with a size of 2x2\n",
    "- Convolution layer with 64 filters, 3x3 kernel, relu activation, and padding\n",
    "- Max pooling layer with a size of 2x2\n",
    "- Convolution layer with 128 filters, 3x3 kernel, relu activation, and padding\n",
    "- Max pooling layer with a size of 2x2\n",
    "- Convolution layer with 128 filters, 3x3 kernel, relu activation, and padding\n",
    "- Max pooling layer with a size of 2x2\n",
    "- Flattening layer\n",
    "- Dropout layer with 0.5 dropout rate\n",
    "- Densely connected layer with dimension of 512 and relu activation function\n",
    "- Densely connected layer with dimension of 256 and relu activation function\n",
    "- Densely connected output layer with dimension of 1 and sigmoid activation function\n",
    "\n",
    "#### Follow the same method as above and plot the results afterwards."
   ]
  },
  {
   "cell_type": "code",
   "execution_count": null,
   "metadata": {
    "scrolled": false
   },
   "outputs": [
    {
     "name": "stdout",
     "output_type": "stream",
     "text": [
      "WARNING:tensorflow:From /Users/stevenchan/anaconda3/lib/python3.7/site-packages/keras/backend/tensorflow_backend.py:3368: calling dropout (from tensorflow.python.ops.nn_ops) with keep_prob is deprecated and will be removed in a future version.\n",
      "Instructions for updating:\n",
      "Please use `rate` instead of `keep_prob`. Rate should be set to `rate = 1 - keep_prob`.\n",
      "Epoch 1/50\n",
      "100/100 [==============================] - 66s 655ms/step - loss: 0.6995 - acc: 0.5122 - val_loss: 0.6916 - val_acc: 0.5190\n",
      "Epoch 2/50\n",
      "100/100 [==============================] - 65s 645ms/step - loss: 0.6917 - acc: 0.5122 - val_loss: 0.6932 - val_acc: 0.4948\n",
      "Epoch 3/50\n",
      "100/100 [==============================] - 64s 636ms/step - loss: 0.6934 - acc: 0.5000 - val_loss: 0.6907 - val_acc: 0.4956\n",
      "Epoch 4/50\n",
      "100/100 [==============================] - 67s 670ms/step - loss: 0.6895 - acc: 0.5322 - val_loss: 0.6845 - val_acc: 0.5696\n",
      "Epoch 5/50\n",
      "100/100 [==============================] - 66s 656ms/step - loss: 0.6719 - acc: 0.5644 - val_loss: 0.6672 - val_acc: 0.5888\n",
      "Epoch 6/50\n",
      "100/100 [==============================] - 65s 653ms/step - loss: 0.6550 - acc: 0.5953 - val_loss: 0.6715 - val_acc: 0.5541\n",
      "Epoch 7/50\n",
      "100/100 [==============================] - 64s 639ms/step - loss: 0.6410 - acc: 0.6188 - val_loss: 0.6614 - val_acc: 0.5612\n",
      "Epoch 8/50\n",
      "100/100 [==============================] - 65s 651ms/step - loss: 0.6384 - acc: 0.6288 - val_loss: 0.6351 - val_acc: 0.6123\n",
      "Epoch 9/50\n",
      "100/100 [==============================] - 65s 650ms/step - loss: 0.6310 - acc: 0.6237 - val_loss: 0.6088 - val_acc: 0.6856\n",
      "Epoch 10/50\n",
      "100/100 [==============================] - 67s 671ms/step - loss: 0.5929 - acc: 0.6790 - val_loss: 0.5761 - val_acc: 0.7113\n",
      "Epoch 11/50\n",
      "100/100 [==============================] - 65s 650ms/step - loss: 0.5954 - acc: 0.6719 - val_loss: 0.6139 - val_acc: 0.6508\n",
      "Epoch 12/50\n",
      "100/100 [==============================] - 65s 647ms/step - loss: 0.5894 - acc: 0.6866 - val_loss: 0.6104 - val_acc: 0.6745\n",
      "Epoch 13/50\n",
      " 89/100 [=========================>....] - ETA: 6s - loss: 0.5708 - acc: 0.7026"
     ]
    }
   ],
   "source": [
    "## ========== YOUR CODE HERE ========= ##\n",
    "\n",
    "# create the model defined above\n",
    "model_custom2 = Sequential()\n",
    "model_custom2.add(Conv2D(32, (3, 3), activation='relu', padding='same', name='conv_1', \n",
    "                 input_shape=(150, 150, 3)))\n",
    "model_custom2.add(MaxPooling2D((2, 2), name='maxpool_1'))\n",
    "model_custom2.add(Conv2D(64, (3, 3), activation='relu', padding='same', name='conv_2'))\n",
    "model_custom2.add(MaxPooling2D((2, 2), name='maxpool_2'))\n",
    "model_custom2.add(Conv2D(128, (3, 3), activation='relu', padding='same', name='conv_3'))\n",
    "model_custom2.add(MaxPooling2D((2, 2), name='maxpool_3'))\n",
    "model_custom2.add(Conv2D(128, (3, 3), activation='relu', padding='same', name='conv_4'))\n",
    "model_custom2.add(MaxPooling2D((2, 2), name='maxpool_4'))\n",
    "model_custom2.add(Flatten())\n",
    "model_custom2.add(Dropout(0.5))\n",
    "model_custom2.add(Dense(512, activation='relu', name='dense_1'))\n",
    "model_custom2.add(Dense(256, activation='relu', name='dense_2'))\n",
    "model_custom2.add(Dense(1, activation='sigmoid', name='output'))\n",
    "\n",
    "# compile the model\n",
    "model_custom2.compile(optimizer='adam', loss='binary_crossentropy', metrics=['accuracy'])\n",
    "\n",
    "# train model for 50 epochs, with 100 steps per epoch, and 50 validation steps\n",
    "history_custom2 = model_custom2.fit_generator(train_generator, steps_per_epoch=100, epochs=50, \n",
    "                                      validation_data=validation_generator, validation_steps=50, verbose=1)\n",
    "\n",
    "# save the model and its history\n",
    "model_custom2.save('model-custom2.h5')\n",
    "save_history(history_custom2, 'history_custom2.bin')\n",
    "\n",
    "# plot results\n",
    "history_custom2 = load_history('history_custom2.bin')\n",
    "plot_compare(history_custom2)"
   ]
  },
  {
   "cell_type": "markdown",
   "metadata": {},
   "source": [
    "#### Which of the two custom models performed better? What do you think contributed to the better performance? How do you think you could improve the model even more?"
   ]
  },
  {
   "cell_type": "code",
   "execution_count": 17,
   "metadata": {},
   "outputs": [],
   "source": [
    "## ========== YOUR ANSWER HERE ========= ##"
   ]
  },
  {
   "cell_type": "markdown",
   "metadata": {},
   "source": [
    "### Question 3: Explore On Your Own!\n",
    "\n",
    "#### Use your proposed methods in the previous question to try and improve the performance of the model. "
   ]
  },
  {
   "cell_type": "code",
   "execution_count": 19,
   "metadata": {
    "scrolled": false
   },
   "outputs": [],
   "source": [
    "## ========== YOUR CODE HERE ========= ##\n",
    "\n",
    "# Train your own custom model here. "
   ]
  }
 ],
 "metadata": {
  "kernelspec": {
   "display_name": "Python 3",
   "language": "python",
   "name": "python3"
  },
  "language_info": {
   "codemirror_mode": {
    "name": "ipython",
    "version": 3
   },
   "file_extension": ".py",
   "mimetype": "text/x-python",
   "name": "python",
   "nbconvert_exporter": "python",
   "pygments_lexer": "ipython3",
   "version": "3.7.3"
  }
 },
 "nbformat": 4,
 "nbformat_minor": 2
}
