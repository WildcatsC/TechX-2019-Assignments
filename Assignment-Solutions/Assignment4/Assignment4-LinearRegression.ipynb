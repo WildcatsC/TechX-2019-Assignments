{
 "cells": [
  {
   "cell_type": "markdown",
   "metadata": {},
   "source": [
    "# Assignment 4"
   ]
  },
  {
   "cell_type": "markdown",
   "metadata": {},
   "source": [
    "In this assignment, we will start with utilizing Sci-Kit learn to implement a linear regression model similar to what we did in Assignment 1. Afterwards, we will be dropping Sci-Kit learning and implementing these algorithms from scratch without the use of machine learning libraries. While you would likely never have to implement your own linear regression algorithm from scratch in practice, such a skill is valuable to have as you progress further into the field and find many scenarios where you actually may need to perform such implementations manually. Additionally, implementing algorithms from scratch will help you better understand the underlying mathematics behind each model.\n",
    "\n",
    "#### Note: this assignment solution is provided to you by Ying :)"
   ]
  },
  {
   "cell_type": "markdown",
   "metadata": {},
   "source": [
    "## Import Libraries"
   ]
  },
  {
   "cell_type": "markdown",
   "metadata": {},
   "source": [
    "We will be using the following libraries for this homework assignment. For the questions requiring manual implementation, the pre-existing implementations from Sci-Kit Learn should *not* be used."
   ]
  },
  {
   "cell_type": "code",
   "execution_count": 1,
   "metadata": {
    "scrolled": true
   },
   "outputs": [],
   "source": [
    "import numpy as np\n",
    "import pandas as pd\n",
    "import matplotlib.pyplot as plt\n",
    "import operator\n",
    "%matplotlib inline\n",
    "\n",
    "from sklearn.linear_model import LinearRegression\n",
    "from sklearn.preprocessing import PolynomialFeatures\n",
    "from sklearn.metrics import mean_squared_error\n",
    "from sklearn.model_selection import train_test_split"
   ]
  },
  {
   "cell_type": "markdown",
   "metadata": {},
   "source": [
    "## Preparing Data"
   ]
  },
  {
   "cell_type": "markdown",
   "metadata": {
    "collapsed": true
   },
   "source": [
    "The file named **dataset1.csv** includes data that was generated from an n-degree polynomial with some gaussian noise. The data has 2 columns - first column is the feature (input) and the second column is its label (output). The first step is to load the data and split them into training, validation, and test sets. A reminder that the purpose of each of the splitted sets are as follows:\n",
    "\n",
    "* **Training Set**: The sample of data used to fit the model\n",
    "* **Validation Set**: The sample of data used to provide an unbiased evaluation of a model fit on the training dataset while tuning model hyperparameters.\n",
    "* **Test Set**: The sample of data used to provide an unbiased evaluation of a final model fit on the training dataset.\n",
    "\n",
    "In the section below, we load the csv file and split the data randomnly into 3 equal sets. \n",
    "\n",
    "*Note that in practice, we usually aim for around a 70-20-10 split for train, valid, and test respectively, but due to limited data in our case, we will do an even split in order to have sufficient data for evaluation* "
   ]
  },
  {
   "cell_type": "code",
   "execution_count": 2,
   "metadata": {
    "scrolled": false
   },
   "outputs": [
    {
     "name": "stdout",
     "output_type": "stream",
     "text": [
      "            0          1\n",
      "0   -0.335254  -2.953401\n",
      "1    0.122457  -5.836786\n",
      "2   -0.819361  -9.321124\n",
      "3   -0.860443  -3.800950\n",
      "4    0.422628   2.100318\n",
      "5   -0.007729  -3.405798\n",
      "6   -0.627858  -6.709161\n",
      "7    0.962901  21.857697\n",
      "8   -0.427498  -3.513751\n",
      "9    0.352504  -3.073887\n",
      "10   0.448782  -0.086280\n",
      "11  -0.780743 -10.921434\n",
      "12  -0.488943 -10.539182\n",
      "13  -0.458625  -3.586555\n",
      "14   0.537657   4.146147\n",
      "15   0.765605  12.400646\n",
      "16   0.510209  -1.062215\n",
      "17  -0.283256  -6.700334\n",
      "18  -0.097897  -5.630283\n",
      "19   0.419778   1.357183\n",
      "20   0.232616   0.908847\n",
      "21  -0.184763  -5.287415\n",
      "22   0.442216  -4.053938\n",
      "23  -0.913618  -5.110324\n",
      "24  -0.698714 -11.098282\n",
      "25   0.850369  14.750550\n",
      "26   0.191167  -0.802697\n",
      "27  -0.073859  -6.728111\n",
      "28   0.411078   5.010641\n",
      "29   0.545287   3.394163\n",
      "..        ...        ...\n",
      "120 -0.320002  -8.173860\n",
      "121 -0.941586  -5.081398\n",
      "122  0.960034  23.901121\n",
      "123  0.539157   0.603698\n",
      "124  0.481661   2.901607\n",
      "125 -0.421273  -5.141306\n",
      "126 -0.859347  -8.850104\n",
      "127 -0.466332  -8.592288\n",
      "128  0.225672   1.528809\n",
      "129  0.613427   2.153045\n",
      "130  0.010311   0.044069\n",
      "131  0.449532  -1.966416\n",
      "132 -0.666065   1.743793\n",
      "133  0.758337  11.295813\n",
      "134 -0.665856  -4.401262\n",
      "135  0.158440  -1.199532\n",
      "136  0.262260  -1.570944\n",
      "137  0.949064  28.894208\n",
      "138  0.901502  16.951294\n",
      "139  0.039217 -10.171068\n",
      "140  0.526354  -3.392671\n",
      "141 -0.350821  -6.755272\n",
      "142  0.193524  -4.538199\n",
      "143 -0.587559  -9.639093\n",
      "144  0.527891   1.690879\n",
      "145 -0.165273  -8.946116\n",
      "146  0.630637   5.166466\n",
      "147 -0.409602  -1.142509\n",
      "148  0.759965   2.599910\n",
      "149 -0.996609  -3.634394\n",
      "\n",
      "[150 rows x 2 columns]\n"
     ]
    },
    {
     "data": {
      "text/plain": [
       "'x = data[0]\\ny = data[1]\\n\\nx_train, x_test, y_train, y_test = train_test_split(x, y, test_size = 1/10, random_state = 1)\\nx_train, x_val, y_train, y_val = train_test_split(x_train, y_train, test_size = 2/9, random_state = 1)\\n\\nx_train = x_train.sort_values()\\ny_train = y_train.sort_values()\\n\\nx_train\\n'"
      ]
     },
     "execution_count": 2,
     "metadata": {},
     "output_type": "execute_result"
    }
   ],
   "source": [
    "# Load the data and split into 3 equal sets\n",
    "data = pd.read_csv('/Users/stevenchan/Documents/TECHX_2019/TechX/Assignments/Assignment4/dataset/dataset1.csv', header=None)\n",
    "\n",
    "data = data.iloc[:, :-1]\n",
    "train, valid, test = np.split(data, [int(.33*len(data)), int(.66*len(data))])\n",
    "\n",
    "# We sort the data in order for plotting purposes later\n",
    "train.sort_values(by=[0], inplace=True)\n",
    "valid.sort_values(by=[0], inplace=True)\n",
    "test.sort_values(by=[0], inplace=True)\n",
    "\n",
    "print(data)\n",
    "\n",
    "'''x = data[0]\n",
    "y = data[1]\n",
    "\n",
    "x_train, x_test, y_train, y_test = train_test_split(x, y, test_size = 1/10, random_state = 1)\n",
    "x_train, x_val, y_train, y_val = train_test_split(x_train, y_train, test_size = 2/9, random_state = 1)\n",
    "\n",
    "x_train = x_train.sort_values()\n",
    "y_train = y_train.sort_values()\n",
    "\n",
    "x_train\n",
    "'''\n"
   ]
  },
  {
   "cell_type": "markdown",
   "metadata": {},
   "source": [
    "Let's take a look at what our data looks like"
   ]
  },
  {
   "cell_type": "code",
   "execution_count": 3,
   "metadata": {},
   "outputs": [
    {
     "data": {
      "image/png": "[encoded data removed]",
      "text/plain": [
       "<Figure size 432x288 with 1 Axes>"
      ]
     },
     "metadata": {
      "needs_background": "light"
     },
     "output_type": "display_data"
    },
    {
     "data": {
      "image/png": "[encoded data removed]",
      "text/plain": [
       "<Figure size 432x288 with 1 Axes>"
      ]
     },
     "metadata": {
      "needs_background": "light"
     },
     "output_type": "display_data"
    }
   ],
   "source": [
    "plt.scatter(train[0], train[1], s=10)\n",
    "plt.show()\n",
    "plt.scatter(data[0],data[1],s=10)\n",
    "plt.show()"
   ]
  },
  {
   "cell_type": "markdown",
   "metadata": {},
   "source": [
    "Let's apply a linear regression model using Sci-Kit learn and see what the results look like."
   ]
  },
  {
   "cell_type": "code",
   "execution_count": 4,
   "metadata": {},
   "outputs": [
    {
     "data": {
      "image/png": "[encoded data removed]",
      "text/plain": [
       "<Figure size 432x288 with 1 Axes>"
      ]
     },
     "metadata": {
      "needs_background": "light"
     },
     "output_type": "display_data"
    }
   ],
   "source": [
    "# Reshape arrays since sci-kit learn only takes in 2D arrays\n",
    "train_x = np.array(train[0])\n",
    "train_y = np.array(train[1])\n",
    "valid_x = np.array(valid[0])\n",
    "valid_y = np.array(valid[1])\n",
    "train_x = train_x.reshape(-1, 1)\n",
    "train_y = train_y.reshape(-1, 1)\n",
    "valid_x = valid_x.reshape(-1, 1)\n",
    "valid_y = valid_y.reshape(-1, 1)\n",
    "\n",
    "# Apply linear regression model\n",
    "model = LinearRegression()\n",
    "model.fit(train_x, train_y)\n",
    "y_pred = model.predict(train_x)\n",
    "\n",
    "# Plot the results\n",
    "plt.scatter(train_x, train_y, s=10)\n",
    "plt.plot(train_x, y_pred, color='r')\n",
    "plt.show()"
   ]
  },
  {
   "cell_type": "markdown",
   "metadata": {},
   "source": [
    "By analyzing the line of best fit above, we can see that a straight line is unable to capture the patterns of the data. This is an example of underfitting. As seen in the latest lecture, we can generate a higher order equation by adding powers of the original features as new features. \n",
    "\n",
    "The linear model,: \n",
    "\n",
    "&nbsp;&nbsp;&nbsp;&nbsp;&nbsp;&nbsp; ** $y(x)$ = $w_1 x$ + $w_0$ ** \n",
    "\n",
    "can be transformed to a polynomial model such as:\n",
    "\n",
    "&nbsp;&nbsp;&nbsp;&nbsp;&nbsp;&nbsp; ** $y(x)$ = $w_2 x^2$ + $w_1 x$ + $w_0$ ** \n",
    "\n",
    "Note that this is still considered to be linear model as the coefficients/weights associated with the features are still linear. x<sup>2</sup> is only a feature. However the curve that we would be fitting in this case is quadratic in nature.\n",
    "\n",
    "Below we show an example of a quadratic curve being fit to the data"
   ]
  },
  {
   "cell_type": "code",
   "execution_count": 5,
   "metadata": {},
   "outputs": [
    {
     "data": {
      "image/png": "[encoded data removed]",
      "text/plain": [
       "<Figure size 432x288 with 1 Axes>"
      ]
     },
     "metadata": {
      "needs_background": "light"
     },
     "output_type": "display_data"
    }
   ],
   "source": [
    "# Create polynomial features with degree 2\n",
    "polynomial_features = PolynomialFeatures(degree=2)\n",
    "x_poly = polynomial_features.fit_transform(train_x)\n",
    "\n",
    "# Apply linear regression\n",
    "model = LinearRegression()\n",
    "model.fit(x_poly, train_y)\n",
    "y_poly_pred = model.predict(x_poly)\n",
    "\n",
    "# Plot the results\n",
    "plt.scatter(train_x, train_y, s=10)\n",
    "plt.plot(train_x, y_poly_pred, color='r')\n",
    "plt.show()"
   ]
  },
  {
   "cell_type": "markdown",
   "metadata": {},
   "source": [
    "As you can see, we get a slightly better fit with a quadratic curve. Let's use the model to make predictions on our validation set and compute the mean squared error, which is the error which we wish to minimize."
   ]
  },
  {
   "cell_type": "code",
   "execution_count": 6,
   "metadata": {},
   "outputs": [
    {
     "name": "stdout",
     "output_type": "stream",
     "text": [
      "Mean Squared Error: 20.485214511024232\n"
     ]
    },
    {
     "data": {
      "image/png": "[encoded data removed]",
      "text/plain": [
       "<Figure size 432x288 with 1 Axes>"
      ]
     },
     "metadata": {
      "needs_background": "light"
     },
     "output_type": "display_data"
    }
   ],
   "source": [
    "# Make predictions using pretrained model\n",
    "valid_y_poly_pred = model.predict(polynomial_features.fit_transform(valid_x))\n",
    "\n",
    "# Calculate root mean squared error\n",
    "mse = mean_squared_error(valid_y, valid_y_poly_pred)\n",
    "print(\"Mean Squared Error: {}\".format(mse))\n",
    "\n",
    "# Plot the prediction results\n",
    "plt.scatter(valid_x, valid_y, s=10)\n",
    "plt.plot(valid_x, valid_y_poly_pred, color='r')\n",
    "plt.show()"
   ]
  },
  {
   "cell_type": "markdown",
   "metadata": {},
   "source": [
    "## Question 1: Polynomial Regression Using Sci-Kit Learn\n",
    "\n",
    "Now it is your turn! Following the same format as above, implement a 10-degree polynomial regression model on the training data and plot your results. Use your model to predict the output of the validation set and calculate the mean square error. Report and plot the results. "
   ]
  },
  {
   "cell_type": "code",
   "execution_count": 7,
   "metadata": {},
   "outputs": [
    {
     "data": {
      "image/png": "[encoded data removed]",
      "text/plain": [
       "<Figure size 432x288 with 1 Axes>"
      ]
     },
     "metadata": {
      "needs_background": "light"
     },
     "output_type": "display_data"
    },
    {
     "name": "stdout",
     "output_type": "stream",
     "text": [
      "Mean Squared Error: 13.115190778263617\n"
     ]
    },
    {
     "data": {
      "image/png": "[encoded data removed]",
      "text/plain": [
       "<Figure size 432x288 with 1 Axes>"
      ]
     },
     "metadata": {
      "needs_background": "light"
     },
     "output_type": "display_data"
    }
   ],
   "source": [
    "### YOUR CODE HERE - Fit a 10-degree polynomial using Sci-Kit Learn\n",
    "polynomial_features = PolynomialFeatures(degree=10)\n",
    "train_x_poly = polynomial_features.fit_transform(train_x)\n",
    "\n",
    "### YOUR CODE HERE - Plot your the curve on the training data set\n",
    "model = LinearRegression()\n",
    "model.fit(train_x_poly, train_y)\n",
    "\n",
    "train_y_pred = model.predict(train_x_poly)\n",
    "\n",
    "plt.scatter(train_x, train_y, s=10)\n",
    "plt.plot(train_x, train_y_pred, color='r')\n",
    "plt.show()\n",
    "\n",
    "### YOUR CODE HERE - Use model to predict output of validation set\n",
    "valid_x_poly = polynomial_features.fit_transform(valid_x)\n",
    "valid_y_pred = model.predict(valid_x_poly)\n",
    "\n",
    "### YOUR CODE HERE - Calculate the RMSE. Report and plot the curve on the validation set.\n",
    "mse = mean_squared_error(valid_y, valid_y_pred)\n",
    "print(\"Mean Squared Error: {}\".format(mse))\n",
    "\n",
    "plt.scatter(valid_x, valid_y, s=10)\n",
    "plt.plot(valid_x, valid_y_pred, color='r')\n",
    "plt.show()"
   ]
  },
  {
   "cell_type": "markdown",
   "metadata": {},
   "source": [
    "#### Did the root mean squared error go up or down as compared to the 2-degree polynomial curve? Why do you think this is the case?\n",
    "\n",
    "------- ANSWER HERE -----------\n",
    "The mean squared error go DOWN compared to the 2-degree poly curve.\n",
    "We make the curve pass through more data points by increasing the complexity of the model, resulting in a better fit."
   ]
  },
  {
   "cell_type": "markdown",
   "metadata": {},
   "source": [
    "Now repeat the above for a 20-degree polynomial regression model."
   ]
  },
  {
   "cell_type": "code",
   "execution_count": 8,
   "metadata": {},
   "outputs": [
    {
     "data": {
      "image/png": "[encoded data removed]",
      "text/plain": [
       "<Figure size 432x288 with 1 Axes>"
      ]
     },
     "metadata": {
      "needs_background": "light"
     },
     "output_type": "display_data"
    },
    {
     "name": "stdout",
     "output_type": "stream",
     "text": [
      "Mean Squared Error: 106.08567940268014\n"
     ]
    },
    {
     "data": {
      "image/png": "[encoded data removed]",
      "text/plain": [
       "<Figure size 432x288 with 1 Axes>"
      ]
     },
     "metadata": {
      "needs_background": "light"
     },
     "output_type": "display_data"
    }
   ],
   "source": [
    "### YOUR CODE HERE - Fit a 20-degree polynomial using Sci-Kit Learn\n",
    "polynomial_features = PolynomialFeatures(degree=20)\n",
    "train_x_poly = polynomial_features.fit_transform(train_x)\n",
    "\n",
    "### YOUR CODE HERE - Plot your the curve on the training data set\n",
    "model = LinearRegression()\n",
    "model.fit(train_x_poly, train_y)\n",
    "train_y_pred = model.predict(train_x_poly)\n",
    "\n",
    "plt.scatter(train_x, train_y, s=10)\n",
    "plt.plot(train_x, train_y_pred, color='r')\n",
    "plt.show()\n",
    "\n",
    "### YOUR CODE HERE - Use model to predict output of validation set\n",
    "valid_x_poly = polynomial_features.fit_transform(valid_x)\n",
    "valid_y_pred = model.predict(valid_x_poly)\n",
    "\n",
    "### YOUR CODE HERE - Calculate the RMSE. Report and plot the curve on the validation set.\n",
    "mse = mean_squared_error(valid_y, valid_y_pred)\n",
    "print(\"Mean Squared Error: {}\".format(mse))\n",
    "\n",
    "plt.scatter(valid_x, valid_y, s=10)\n",
    "plt.plot(valid_x, valid_y_pred, color='r')\n",
    "plt.show()"
   ]
  },
  {
   "cell_type": "markdown",
   "metadata": {},
   "source": [
    "#### How does the mean square error compare to the previous two models? Why do you think this is the case?\n",
    "\n",
    "-------- ANSWER HERE -----------\n",
    "The mean square error increases greatly.\n",
    "This is called overfitting. The model learn from the noise of the training set and therefore fails to generalize."
   ]
  },
  {
   "cell_type": "markdown",
   "metadata": {},
   "source": [
    "## Question 2: Manual Implementation"
   ]
  },
  {
   "cell_type": "markdown",
   "metadata": {},
   "source": [
    "Now it's time to appreciate the hard work that open source developers have put, in order to allow you to implemenent machine learning models without doing any math! No more Sci-Kit learn (or any other libraries like Tensorflow, Pytorch, etc) for the rest of this assignment!"
   ]
  },
  {
   "cell_type": "markdown",
   "metadata": {},
   "source": [
    "Your first step is to fit a **10-degree polynomial** to the dataset we have been using above. Then using your results, calculate the mean squared error on both the training and validation set. You may use general utility libraries like numpy and pandas matrix computations and data manipulation, but pre-existing implementations of the model itself is prohibited.\n",
    "\n",
    "A reminder that in polynomial regression, we are looking for a solution for the equation:\n",
    "\n",
    "&nbsp;&nbsp;&nbsp;&nbsp;&nbsp;&nbsp; ** $Y(X)$ = $W^T$ * $\\phi(X)$ ** \n",
    "\n",
    "where\n",
    "\n",
    "&nbsp;&nbsp;&nbsp;&nbsp;&nbsp;&nbsp; ** $\\phi(X)$ = [ $1$, $X$, $X^2$, $X^3$, ..... $X^n$ ] **\n",
    " \n",
    "and the ordinary least square solution in closed form is:\n",
    "\n",
    "&nbsp;&nbsp;&nbsp;&nbsp;&nbsp;&nbsp;** $W$ = $(X^T X)^{-1}X^TY$ **\n",
    "\n",
    "Make sure to review the slides, do some research, and/or ask for clarification if this doesn't make sense. You must understand the underlying math before being able to implement this properly.\n",
    "\n",
    "*Suggestion - Use the original pandas dataframes variables named train, valid, and test instead of the reshaped arrays that were used specifically for Sci-Kit Learn. It will make your computations cleaner and more inuitive.*"
   ]
  },
  {
   "cell_type": "code",
   "execution_count": 9,
   "metadata": {},
   "outputs": [
    {
     "name": "stdout",
     "output_type": "stream",
     "text": [
      "[[1 array([[-0.98877038]]) array([[0.97766687]]) array([[-0.96668804]])\n",
      "  array([[0.95583251]]) array([[-0.94509887]]) array([[0.93448577]])\n",
      "  array([[-0.92399186]]) array([[0.91361578]]) array([[-0.90335623]])\n",
      "  array([[0.89321188]])]\n",
      " [1 array([[-0.91361822]]) array([[0.83469825]]) array([[-0.76259553]])\n",
      "  array([[0.69672117]]) array([[-0.63653715]]) array([[0.58155194]])\n",
      "  array([[-0.53131645]]) array([[0.48542039]]) array([[-0.44348891]])\n",
      "  array([[0.40517955]])]\n",
      " [1 array([[-0.89541665]]) array([[0.80177098]]) array([[-0.71791908]])\n",
      "  array([[0.6428367]]) array([[-0.57560669]]) array([[0.51540781]])\n",
      "  array([[-0.46150474]]) array([[0.41323903]]) array([[-0.3700211]])\n",
      "  array([[0.33132306]])]\n",
      " [1 array([[-0.86044258]]) array([[0.74036143]]) array([[-0.6370385]])\n",
      "  array([[0.54813505]]) array([[-0.47163873]]) array([[0.40581805]])\n",
      "  array([[-0.34918313]]) array([[0.30045203]]) array([[-0.25852172]])\n",
      "  array([[0.22244309]])]\n",
      " [1 array([[-0.81936111]]) array([[0.67135263]]) array([[-0.55008024]])\n",
      "  array([[0.45071436]]) array([[-0.36929782]]) array([[0.30258827]])\n",
      "  array([[-0.24792906]]) array([[0.20314343]]) array([[-0.16644783]])\n",
      "  array([[0.13638088]])]\n",
      " [1 array([[-0.78985558]]) array([[0.62387183]]) array([[-0.49276865]])\n",
      "  array([[0.38921606]]) array([[-0.30742448]]) array([[0.24282094]])\n",
      "  array([[-0.19179347]]) array([[0.15148914]]) array([[-0.11965454]])\n",
      "  array([[0.09450981]])]\n",
      " [1 array([[-0.78074251]]) array([[0.60955887]]) array([[-0.47590852]])\n",
      "  array([[0.37156201]]) array([[-0.29009426]]) array([[0.22648892]])\n",
      "  array([[-0.17682953]]) array([[0.13805833]]) array([[-0.10778801]])\n",
      "  array([[0.08415468]])]\n",
      " [1 array([[-0.69871372]]) array([[0.48820086]]) array([[-0.34111264]])\n",
      "  array([[0.23834008]]) array([[-0.16653148]]) array([[0.11635783]])\n",
      "  array([[-0.08130081]]) array([[0.05680599]]) array([[-0.03969113]])\n",
      "  array([[0.02773273]])]\n",
      " [1 array([[-0.62785813]]) array([[0.39420583]]) array([[-0.24750534]])\n",
      "  array([[0.15539824]]) array([[-0.09756805]]) array([[0.06125889]])\n",
      "  array([[-0.03846189]]) array([[0.02414861]]) array([[-0.0151619]])\n",
      "  array([[0.00951952]])]\n",
      " [1 array([[-0.61815645]]) array([[0.3821174]]) array([[-0.23620834]])\n",
      "  array([[0.14601371]]) array([[-0.09025932]]) array([[0.05579438]])\n",
      "  array([[-0.03448966]]) array([[0.02132]]) array([[-0.0131791]])\n",
      "  array([[0.00814674]])]\n",
      " [1 array([[-0.49909789]]) array([[0.2490987]]) array([[-0.12432463]])\n",
      "  array([[0.06205016]]) array([[-0.0309691]]) array([[0.01545661]])\n",
      "  array([[-0.00771436]]) array([[0.00385022]]) array([[-0.00192164]])\n",
      "  array([[0.00095909]])]\n",
      " [1 array([[-0.48894309]]) array([[0.23906535]]) array([[-0.11688935]])\n",
      "  array([[0.05715224]]) array([[-0.02794419]]) array([[0.01366312]])\n",
      "  array([[-0.00668049]]) array([[0.00326638]]) array([[-0.00159707]])\n",
      "  array([[0.00078088]])]\n",
      " [1 array([[-0.45862458]]) array([[0.21033651]]) array([[-0.09646549]])\n",
      "  array([[0.04424145]]) array([[-0.02029021]]) array([[0.00930559]])\n",
      "  array([[-0.00426777]]) array([[0.00195731]]) array([[-0.00089767]])\n",
      "  array([[0.00041169]])]\n",
      " [1 array([[-0.42749769]]) array([[0.18275428]]) array([[-0.07812703]])\n",
      "  array([[0.03339913]]) array([[-0.01427805]]) array([[0.00610383]])\n",
      "  array([[-0.00260937]]) array([[0.0011155]]) array([[-0.00047687]])\n",
      "  array([[0.00020386]])]\n",
      " [1 array([[-0.41426313]]) array([[0.17161394]]) array([[-0.07109333]])\n",
      "  array([[0.02945134]]) array([[-0.01220061]]) array([[0.00505426]])\n",
      "  array([[-0.00209379]]) array([[0.00086738]]) array([[-0.00035932]])\n",
      "  array([[0.00014885]])]\n",
      " [1 array([[-0.33525412]]) array([[0.11239532]]) array([[-0.03768099]])\n",
      "  array([[0.01263271]]) array([[-0.00423517]]) array([[0.00141986]])\n",
      "  array([[-0.00047601]]) array([[0.00015959]]) array([[-5.35016367e-05]])\n",
      "  array([[1.79366439e-05]])]\n",
      " [1 array([[-0.30086343]]) array([[0.09051881]]) array([[-0.0272338]])\n",
      "  array([[0.00819365]]) array([[-0.00246517]]) array([[0.00074168]])\n",
      "  array([[-0.00022314]]) array([[6.71359673e-05]])\n",
      "  array([[-2.01987576e-05]]) array([[6.07706754e-06]])]\n",
      " [1 array([[-0.28325561]]) array([[0.08023374]]) array([[-0.02272666]])\n",
      "  array([[0.00643745]]) array([[-0.00182344]]) array([[0.0005165]])\n",
      "  array([[-0.0001463]]) array([[4.14407984e-05]])\n",
      "  array([[-1.17383385e-05]]) array([[3.32495018e-06]])]\n",
      " [1 array([[-0.21504383]]) array([[0.04624385]]) array([[-0.00994445]])\n",
      "  array([[0.00213849]]) array([[-0.00045987]]) array([[9.88921741e-05]])\n",
      "  array([[-2.12661519e-05]]) array([[4.57315477e-06]])\n",
      "  array([[-9.8342872e-07]]) array([[2.11480279e-07]])]\n",
      " [1 array([[-0.18476321]]) array([[0.03413744]]) array([[-0.00630734]])\n",
      "  array([[0.00116536]]) array([[-0.00021532]]) array([[3.97825799e-05]])\n",
      "  array([[-7.35035702e-06]]) array([[1.35807553e-06]])\n",
      "  array([[-2.5092239e-07]]) array([[4.63612253e-08]])]\n",
      " [1 array([[-0.09789742]]) array([[0.0095839]]) array([[-0.00093824]])\n",
      "  array([[9.18512307e-05]]) array([[-8.99199847e-06]])\n",
      "  array([[8.80293448e-07]]) array([[-8.61784571e-08]])\n",
      "  array([[8.43664858e-09]]) array([[-8.25926126e-10]])\n",
      "  array([[8.08560366e-11]])]\n",
      " [1 array([[-0.0767185]]) array([[0.00588573]]) array([[-0.00045154]])\n",
      "  array([[3.46417934e-05]]) array([[-2.65766636e-06]])\n",
      "  array([[2.03892172e-07]]) array([[-1.56423012e-08]])\n",
      "  array([[1.20005385e-09]]) array([[-9.20663291e-11]])\n",
      "  array([[7.06319049e-12]])]\n",
      " [1 array([[-0.07385912]]) array([[0.00545517]]) array([[-0.00040291]])\n",
      "  array([[2.97588794e-05]]) array([[-2.19796472e-06]])\n",
      "  array([[1.62339745e-07]]) array([[-1.19902711e-08]])\n",
      "  array([[8.85590903e-10]]) array([[-6.54089669e-11]])\n",
      "  array([[4.8310489e-12]])]\n",
      " [1 array([[-0.00772939]]) array([[5.97433974e-05]])\n",
      "  array([[-4.61779738e-07]]) array([[3.56927353e-09]])\n",
      "  array([[-2.75882904e-11]]) array([[2.13240527e-13]])\n",
      "  array([[-1.6482182e-15]]) array([[1.27397135e-17]])\n",
      "  array([[-9.84701547e-20]]) array([[7.61113768e-22]])]\n",
      " [1 array([[0.12245686]]) array([[0.01499568]]) array([[0.00183632]])\n",
      "  array([[0.00022487]]) array([[2.75369342e-05]])\n",
      "  array([[3.37208648e-06]]) array([[4.1293512e-07]])\n",
      "  array([[5.0566738e-08]]) array([[6.19224393e-09]])\n",
      "  array([[7.58282745e-10]])]\n",
      " [1 array([[0.19116681]]) array([[0.03654475]]) array([[0.00698614]])\n",
      "  array([[0.00133552]]) array([[0.00025531]]) array([[4.88061949e-05]])\n",
      "  array([[9.33012455e-06]]) array([[1.78361014e-06]])\n",
      "  array([[3.4096706e-07]]) array([[6.51815849e-08]])]\n",
      " [1 array([[0.19440008]]) array([[0.03779139]]) array([[0.00734665]])\n",
      "  array([[0.00142819]]) array([[0.00027764]]) array([[5.39732615e-05]])\n",
      "  array([[1.04924065e-05]]) array([[2.03972468e-06]])\n",
      "  array([[3.96522645e-07]]) array([[7.70840346e-08]])]\n",
      " [1 array([[0.23261559]]) array([[0.05411001]]) array([[0.01258683]])\n",
      "  array([[0.00292789]]) array([[0.00068107]]) array([[0.00015843]])\n",
      "  array([[3.68529039e-05]]) array([[8.57255996e-06]])\n",
      "  array([[1.99411109e-06]]) array([[4.63861325e-07]])]\n",
      " [1 array([[0.23899974]]) array([[0.05712087]]) array([[0.01365187]])\n",
      "  array([[0.00326279]]) array([[0.00077981]]) array([[0.00018637]])\n",
      "  array([[4.45432548e-05]]) array([[1.06458261e-05]])\n",
      "  array([[2.54434963e-06]]) array([[6.0809889e-07]])]\n",
      " [1 array([[0.352504]]) array([[0.12425907]]) array([[0.04380182]])\n",
      "  array([[0.01544032]]) array([[0.00544277]]) array([[0.0019186]])\n",
      "  array([[0.00067631]]) array([[0.0002384]]) array([[8.40381369e-05]])\n",
      "  array([[2.96237792e-05]])]\n",
      " [1 array([[0.41107763]]) array([[0.16898481]]) array([[0.06946588]])\n",
      "  array([[0.02855587]]) array([[0.01173868]]) array([[0.00482551]])\n",
      "  array([[0.00198366]]) array([[0.00081544]]) array([[0.00033521]])\n",
      "  array([[0.0001378]])]\n",
      " [1 array([[0.41977846]]) array([[0.17621395]]) array([[0.07397082]])\n",
      "  array([[0.03105136]]) array([[0.01303469]]) array([[0.00547168]])\n",
      "  array([[0.00229689]]) array([[0.00096419]]) array([[0.00040474]])\n",
      "  array([[0.0001699]])]\n",
      " [1 array([[0.4226282]]) array([[0.17861459]]) array([[0.07548756]])\n",
      "  array([[0.03190317]]) array([[0.01348318]]) array([[0.00569837]])\n",
      "  array([[0.00240829]]) array([[0.00101781]]) array([[0.00043016]])\n",
      "  array([[0.0001818]])]\n",
      " [1 array([[0.44221619]]) array([[0.19555516]]) array([[0.08647766]])\n",
      "  array([[0.03824182]]) array([[0.01691115]]) array([[0.00747838]])\n",
      "  array([[0.00330706]]) array([[0.00146244]]) array([[0.00064671]])\n",
      "  array([[0.00028599]])]\n",
      " [1 array([[0.4487821]]) array([[0.20140537]]) array([[0.09038713]])\n",
      "  array([[0.04056412]]) array([[0.01820445]]) array([[0.00816983]])\n",
      "  array([[0.00366647]]) array([[0.00164545]]) array([[0.00073845]])\n",
      "  array([[0.0003314]])]\n",
      " [1 array([[0.48709971]]) array([[0.23726613]]) array([[0.11557226]])\n",
      "  array([[0.05629522]]) array([[0.02742138]]) array([[0.01335695]])\n",
      "  array([[0.00650617]]) array([[0.00316915]]) array([[0.00154369]])\n",
      "  array([[0.00075193]])]\n",
      " [1 array([[0.48984987]]) array([[0.2399529]]) array([[0.1175409]])\n",
      "  array([[0.05757739]]) array([[0.02820428]]) array([[0.01381586]])\n",
      "  array([[0.0067677]]) array([[0.00331516]]) array([[0.00162393]])\n",
      "  array([[0.00079548]])]\n",
      " [1 array([[0.51020888]]) array([[0.2603131]]) array([[0.13281405]])\n",
      "  array([[0.06776291]]) array([[0.03457324]]) array([[0.01763957]])\n",
      "  array([[0.00899987]]) array([[0.00459181]]) array([[0.00234278]])\n",
      "  array([[0.00119531]])]\n",
      " [1 array([[0.53765747]]) array([[0.28907555]]) array([[0.15542363]])\n",
      "  array([[0.08356468]]) array([[0.04492917]]) array([[0.0241565]])\n",
      "  array([[0.01298793]]) array([[0.00698305]]) array([[0.00375449]])\n",
      "  array([[0.00201863]])]\n",
      " [1 array([[0.54528658]]) array([[0.29733745]]) array([[0.16213412]])\n",
      "  array([[0.08840956]]) array([[0.04820855]]) array([[0.02628747]])\n",
      "  array([[0.01433421]]) array([[0.00781625]]) array([[0.0042621]])\n",
      "  array([[0.00232406]])]\n",
      " [1 array([[0.58964767]]) array([[0.34768438]]) array([[0.20501128]])\n",
      "  array([[0.12088442]]) array([[0.07127922]]) array([[0.04202963]])\n",
      "  array([[0.02478267]]) array([[0.01461304]]) array([[0.00861655]])\n",
      "  array([[0.00508073]])]\n",
      " [1 array([[0.68241967]]) array([[0.46569661]]) array([[0.31780053]])\n",
      "  array([[0.21687333]]) array([[0.14799863]]) array([[0.10099717]])\n",
      "  array([[0.06892246]]) array([[0.04703404]]) array([[0.03209696]])\n",
      "  array([[0.02190359]])]\n",
      " [1 array([[0.73657744]]) array([[0.54254632]]) array([[0.39962738]])\n",
      "  array([[0.29435651]]) array([[0.21681637]]) array([[0.15970204]])\n",
      "  array([[0.11763292]]) array([[0.08664576]]) array([[0.06382131]])\n",
      "  array([[0.04700934]])]\n",
      " [1 array([[0.76560508]]) array([[0.58615115]]) array([[0.4487603]])\n",
      "  array([[0.34357317]]) array([[0.26304136]]) array([[0.2013858]])\n",
      "  array([[0.154182]]) array([[0.11804252]]) array([[0.09037395]])\n",
      "  array([[0.06919076]])]\n",
      " [1 array([[0.80526481]]) array([[0.64845141]]) array([[0.5221751]])\n",
      "  array([[0.42048923]]) array([[0.33860518]]) array([[0.27266683]])\n",
      "  array([[0.21956901]]) array([[0.17681119]]) array([[0.14237983]])\n",
      "  array([[0.11465347]])]\n",
      " [1 array([[0.85036915]]) array([[0.72312769]]) array([[0.61492548]])\n",
      "  array([[0.52291366]]) array([[0.44466964]]) array([[0.37813335]])\n",
      "  array([[0.32155293]]) array([[0.27343869]]) array([[0.23252383]])\n",
      "  array([[0.19773109]])]\n",
      " [1 array([[0.85134319]]) array([[0.72478523]]) array([[0.61704097]])\n",
      "  array([[0.52531363]]) array([[0.44722219]]) array([[0.38073956]])\n",
      "  array([[0.32414004]]) array([[0.27595441]]) array([[0.23493191]])\n",
      "  array([[0.20000768]])]\n",
      " [1 array([[0.94050747]]) array([[0.8845543]]) array([[0.83192993]])\n",
      "  array([[0.78243631]]) array([[0.7358872]]) array([[0.6921074]])\n",
      "  array([[0.65093218]]) array([[0.61220658]]) array([[0.57578486]])\n",
      "  array([[0.54152997]])]\n",
      " [1 array([[0.96290148]]) array([[0.92717926]]) array([[0.89278228]])\n",
      "  array([[0.85966137]]) array([[0.82776921]]) array([[0.79706019]])\n",
      "  array([[0.76749044]]) array([[0.73901768]]) array([[0.71160121]])\n",
      "  array([[0.68520186]])]]\n",
      "[[  -4.61530965]\n",
      " [   1.91630672]\n",
      " [  41.49038088]\n",
      " [  15.21251326]\n",
      " [-186.43789033]\n",
      " [ -34.83215762]\n",
      " [ 274.58029879]\n",
      " [  93.60745072]\n",
      " [ -68.83304567]\n",
      " [ -61.39896387]\n",
      " [ -48.43809063]]\n",
      "Mean Squared Error: 8.600664341757431\n"
     ]
    },
    {
     "data": {
      "image/png": "[encoded data removed]",
      "text/plain": [
       "<Figure size 432x288 with 1 Axes>"
      ]
     },
     "metadata": {
      "needs_background": "light"
     },
     "output_type": "display_data"
    },
    {
     "name": "stdout",
     "output_type": "stream",
     "text": [
      "Mean Squared Error: 13.11519077848503\n"
     ]
    },
    {
     "data": {
      "image/png": "[encoded data removed]",
      "text/plain": [
       "<Figure size 432x288 with 1 Axes>"
      ]
     },
     "metadata": {
      "needs_background": "light"
     },
     "output_type": "display_data"
    }
   ],
   "source": [
    "### YOUR CODE HERE - Create the polynomial matrix ϕ(X)\n",
    "def poly_matrix(X):\n",
    "    phi=[]\n",
    "    for x in X:\n",
    "        phi.append([1,x,x**2,x**3,x**4,x**5,x**6,x**7,x**8,x**9,x**10])\n",
    "    return np.matrix(phi)\n",
    "print(poly_matrix(train_x))\n",
    "### YOUR CODE HERE - Find the weighted matrix W\n",
    "def findW(X,Y):\n",
    "    K=np.transpose(poly_matrix(X))*poly_matrix(X)\n",
    "    return np.linalg.inv(K)*np.transpose(poly_matrix(X))*np.transpose(np.matrix(Y))\n",
    "\n",
    "### YOUR CODE HERE - Make predictions on the training set and calculate the root mean squared error. Plot the results.\n",
    "train_x = train[0]\n",
    "train_y = train[1]\n",
    "W = findW(train_x,train_y)\n",
    "\n",
    "print(W)\n",
    "train_y_pre = poly_matrix(train_x)*W\n",
    "mse = mean_squared_error(train_y, train_y_pre)\n",
    "\n",
    "print(\"Mean Squared Error: {}\".format(mse))\n",
    "plt.scatter(train_x, train_y, s = 10)\n",
    "plt.plot(train_x, train_y_pre, color = 'r')\n",
    "plt.show()\n",
    "\n",
    "### YOUR CODE HERE - Make predictions on the validation set and calculate the mean squared error. Plot the results.\n",
    "valid_x=valid[0]\n",
    "valid_y=valid[1]\n",
    "valid_y_pre=poly_matrix(valid_x)*W\n",
    "\n",
    "mse = mean_squared_error(valid_y, valid_y_pre)\n",
    "\n",
    "print(\"Mean Squared Error: {}\".format(mse))\n",
    "plt.scatter(valid_x, valid_y, s=10)\n",
    "plt.plot(valid_x, valid_y_pre, color='r')\n",
    "plt.show()"
   ]
  },
  {
   "cell_type": "markdown",
   "metadata": {},
   "source": [
    "For the rest of the assignment, we will use the other dataset named **dataset2.csv**. First load the csv and split the model into train, valid, and test sets as shown earlier in the assignment."
   ]
  },
  {
   "cell_type": "code",
   "execution_count": 10,
   "metadata": {},
   "outputs": [
    {
     "ename": "FileNotFoundError",
     "evalue": "[Errno 2] File b'dataset2.csv' does not exist: b'dataset2.csv'",
     "output_type": "error",
     "traceback": [
      "\u001b[0;31m---------------------------------------------------------------------------\u001b[0m",
      "\u001b[0;31mFileNotFoundError\u001b[0m                         Traceback (most recent call last)",
      "\u001b[0;32m<ipython-input-10-e65e84021177>\u001b[0m in \u001b[0;36m<module>\u001b[0;34m\u001b[0m\n\u001b[1;32m      1\u001b[0m \u001b[0;31m### YOUR CODE HERE - Load dataset2.csv and split into 3 equal sets\u001b[0m\u001b[0;34m\u001b[0m\u001b[0;34m\u001b[0m\u001b[0;34m\u001b[0m\u001b[0m\n\u001b[0;32m----> 2\u001b[0;31m \u001b[0mdata\u001b[0m \u001b[0;34m=\u001b[0m \u001b[0mpd\u001b[0m\u001b[0;34m.\u001b[0m\u001b[0mread_csv\u001b[0m\u001b[0;34m(\u001b[0m\u001b[0;34m'dataset2.csv'\u001b[0m\u001b[0;34m,\u001b[0m \u001b[0mheader\u001b[0m\u001b[0;34m=\u001b[0m\u001b[0;32mNone\u001b[0m\u001b[0;34m)\u001b[0m\u001b[0;34m\u001b[0m\u001b[0;34m\u001b[0m\u001b[0m\n\u001b[0m\u001b[1;32m      3\u001b[0m \u001b[0mdata\u001b[0m \u001b[0;34m=\u001b[0m \u001b[0mdata\u001b[0m\u001b[0;34m.\u001b[0m\u001b[0miloc\u001b[0m\u001b[0;34m[\u001b[0m\u001b[0;34m:\u001b[0m\u001b[0;34m,\u001b[0m \u001b[0;34m:\u001b[0m\u001b[0;34m-\u001b[0m\u001b[0;36m1\u001b[0m\u001b[0;34m]\u001b[0m\u001b[0;34m\u001b[0m\u001b[0;34m\u001b[0m\u001b[0m\n\u001b[1;32m      4\u001b[0m \u001b[0mtrain\u001b[0m\u001b[0;34m,\u001b[0m \u001b[0mvalid\u001b[0m\u001b[0;34m,\u001b[0m \u001b[0mtest\u001b[0m \u001b[0;34m=\u001b[0m \u001b[0mnp\u001b[0m\u001b[0;34m.\u001b[0m\u001b[0msplit\u001b[0m\u001b[0;34m(\u001b[0m\u001b[0mdata\u001b[0m\u001b[0;34m,\u001b[0m \u001b[0;34m[\u001b[0m\u001b[0mint\u001b[0m\u001b[0;34m(\u001b[0m\u001b[0;36m.33\u001b[0m\u001b[0;34m*\u001b[0m\u001b[0mlen\u001b[0m\u001b[0;34m(\u001b[0m\u001b[0mdata\u001b[0m\u001b[0;34m)\u001b[0m\u001b[0;34m)\u001b[0m\u001b[0;34m,\u001b[0m \u001b[0mint\u001b[0m\u001b[0;34m(\u001b[0m\u001b[0;36m.66\u001b[0m\u001b[0;34m*\u001b[0m\u001b[0mlen\u001b[0m\u001b[0;34m(\u001b[0m\u001b[0mdata\u001b[0m\u001b[0;34m)\u001b[0m\u001b[0;34m)\u001b[0m\u001b[0;34m]\u001b[0m\u001b[0;34m)\u001b[0m\u001b[0;34m\u001b[0m\u001b[0;34m\u001b[0m\u001b[0m\n\u001b[1;32m      5\u001b[0m \u001b[0;34m\u001b[0m\u001b[0m\n",
      "\u001b[0;32m~/anaconda3/lib/python3.7/site-packages/pandas/io/parsers.py\u001b[0m in \u001b[0;36mparser_f\u001b[0;34m(filepath_or_buffer, sep, delimiter, header, names, index_col, usecols, squeeze, prefix, mangle_dupe_cols, dtype, engine, converters, true_values, false_values, skipinitialspace, skiprows, skipfooter, nrows, na_values, keep_default_na, na_filter, verbose, skip_blank_lines, parse_dates, infer_datetime_format, keep_date_col, date_parser, dayfirst, iterator, chunksize, compression, thousands, decimal, lineterminator, quotechar, quoting, doublequote, escapechar, comment, encoding, dialect, tupleize_cols, error_bad_lines, warn_bad_lines, delim_whitespace, low_memory, memory_map, float_precision)\u001b[0m\n\u001b[1;32m    700\u001b[0m                     skip_blank_lines=skip_blank_lines)\n\u001b[1;32m    701\u001b[0m \u001b[0;34m\u001b[0m\u001b[0m\n\u001b[0;32m--> 702\u001b[0;31m         \u001b[0;32mreturn\u001b[0m \u001b[0m_read\u001b[0m\u001b[0;34m(\u001b[0m\u001b[0mfilepath_or_buffer\u001b[0m\u001b[0;34m,\u001b[0m \u001b[0mkwds\u001b[0m\u001b[0;34m)\u001b[0m\u001b[0;34m\u001b[0m\u001b[0;34m\u001b[0m\u001b[0m\n\u001b[0m\u001b[1;32m    703\u001b[0m \u001b[0;34m\u001b[0m\u001b[0m\n\u001b[1;32m    704\u001b[0m     \u001b[0mparser_f\u001b[0m\u001b[0;34m.\u001b[0m\u001b[0m__name__\u001b[0m \u001b[0;34m=\u001b[0m \u001b[0mname\u001b[0m\u001b[0;34m\u001b[0m\u001b[0;34m\u001b[0m\u001b[0m\n",
      "\u001b[0;32m~/anaconda3/lib/python3.7/site-packages/pandas/io/parsers.py\u001b[0m in \u001b[0;36m_read\u001b[0;34m(filepath_or_buffer, kwds)\u001b[0m\n\u001b[1;32m    427\u001b[0m \u001b[0;34m\u001b[0m\u001b[0m\n\u001b[1;32m    428\u001b[0m     \u001b[0;31m# Create the parser.\u001b[0m\u001b[0;34m\u001b[0m\u001b[0;34m\u001b[0m\u001b[0;34m\u001b[0m\u001b[0m\n\u001b[0;32m--> 429\u001b[0;31m     \u001b[0mparser\u001b[0m \u001b[0;34m=\u001b[0m \u001b[0mTextFileReader\u001b[0m\u001b[0;34m(\u001b[0m\u001b[0mfilepath_or_buffer\u001b[0m\u001b[0;34m,\u001b[0m \u001b[0;34m**\u001b[0m\u001b[0mkwds\u001b[0m\u001b[0;34m)\u001b[0m\u001b[0;34m\u001b[0m\u001b[0;34m\u001b[0m\u001b[0m\n\u001b[0m\u001b[1;32m    430\u001b[0m \u001b[0;34m\u001b[0m\u001b[0m\n\u001b[1;32m    431\u001b[0m     \u001b[0;32mif\u001b[0m \u001b[0mchunksize\u001b[0m \u001b[0;32mor\u001b[0m \u001b[0miterator\u001b[0m\u001b[0;34m:\u001b[0m\u001b[0;34m\u001b[0m\u001b[0;34m\u001b[0m\u001b[0m\n",
      "\u001b[0;32m~/anaconda3/lib/python3.7/site-packages/pandas/io/parsers.py\u001b[0m in \u001b[0;36m__init__\u001b[0;34m(self, f, engine, **kwds)\u001b[0m\n\u001b[1;32m    893\u001b[0m             \u001b[0mself\u001b[0m\u001b[0;34m.\u001b[0m\u001b[0moptions\u001b[0m\u001b[0;34m[\u001b[0m\u001b[0;34m'has_index_names'\u001b[0m\u001b[0;34m]\u001b[0m \u001b[0;34m=\u001b[0m \u001b[0mkwds\u001b[0m\u001b[0;34m[\u001b[0m\u001b[0;34m'has_index_names'\u001b[0m\u001b[0;34m]\u001b[0m\u001b[0;34m\u001b[0m\u001b[0;34m\u001b[0m\u001b[0m\n\u001b[1;32m    894\u001b[0m \u001b[0;34m\u001b[0m\u001b[0m\n\u001b[0;32m--> 895\u001b[0;31m         \u001b[0mself\u001b[0m\u001b[0;34m.\u001b[0m\u001b[0m_make_engine\u001b[0m\u001b[0;34m(\u001b[0m\u001b[0mself\u001b[0m\u001b[0;34m.\u001b[0m\u001b[0mengine\u001b[0m\u001b[0;34m)\u001b[0m\u001b[0;34m\u001b[0m\u001b[0;34m\u001b[0m\u001b[0m\n\u001b[0m\u001b[1;32m    896\u001b[0m \u001b[0;34m\u001b[0m\u001b[0m\n\u001b[1;32m    897\u001b[0m     \u001b[0;32mdef\u001b[0m \u001b[0mclose\u001b[0m\u001b[0;34m(\u001b[0m\u001b[0mself\u001b[0m\u001b[0;34m)\u001b[0m\u001b[0;34m:\u001b[0m\u001b[0;34m\u001b[0m\u001b[0;34m\u001b[0m\u001b[0m\n",
      "\u001b[0;32m~/anaconda3/lib/python3.7/site-packages/pandas/io/parsers.py\u001b[0m in \u001b[0;36m_make_engine\u001b[0;34m(self, engine)\u001b[0m\n\u001b[1;32m   1120\u001b[0m     \u001b[0;32mdef\u001b[0m \u001b[0m_make_engine\u001b[0m\u001b[0;34m(\u001b[0m\u001b[0mself\u001b[0m\u001b[0;34m,\u001b[0m \u001b[0mengine\u001b[0m\u001b[0;34m=\u001b[0m\u001b[0;34m'c'\u001b[0m\u001b[0;34m)\u001b[0m\u001b[0;34m:\u001b[0m\u001b[0;34m\u001b[0m\u001b[0;34m\u001b[0m\u001b[0m\n\u001b[1;32m   1121\u001b[0m         \u001b[0;32mif\u001b[0m \u001b[0mengine\u001b[0m \u001b[0;34m==\u001b[0m \u001b[0;34m'c'\u001b[0m\u001b[0;34m:\u001b[0m\u001b[0;34m\u001b[0m\u001b[0;34m\u001b[0m\u001b[0m\n\u001b[0;32m-> 1122\u001b[0;31m             \u001b[0mself\u001b[0m\u001b[0;34m.\u001b[0m\u001b[0m_engine\u001b[0m \u001b[0;34m=\u001b[0m \u001b[0mCParserWrapper\u001b[0m\u001b[0;34m(\u001b[0m\u001b[0mself\u001b[0m\u001b[0;34m.\u001b[0m\u001b[0mf\u001b[0m\u001b[0;34m,\u001b[0m \u001b[0;34m**\u001b[0m\u001b[0mself\u001b[0m\u001b[0;34m.\u001b[0m\u001b[0moptions\u001b[0m\u001b[0;34m)\u001b[0m\u001b[0;34m\u001b[0m\u001b[0;34m\u001b[0m\u001b[0m\n\u001b[0m\u001b[1;32m   1123\u001b[0m         \u001b[0;32melse\u001b[0m\u001b[0;34m:\u001b[0m\u001b[0;34m\u001b[0m\u001b[0;34m\u001b[0m\u001b[0m\n\u001b[1;32m   1124\u001b[0m             \u001b[0;32mif\u001b[0m \u001b[0mengine\u001b[0m \u001b[0;34m==\u001b[0m \u001b[0;34m'python'\u001b[0m\u001b[0;34m:\u001b[0m\u001b[0;34m\u001b[0m\u001b[0;34m\u001b[0m\u001b[0m\n",
      "\u001b[0;32m~/anaconda3/lib/python3.7/site-packages/pandas/io/parsers.py\u001b[0m in \u001b[0;36m__init__\u001b[0;34m(self, src, **kwds)\u001b[0m\n\u001b[1;32m   1851\u001b[0m         \u001b[0mkwds\u001b[0m\u001b[0;34m[\u001b[0m\u001b[0;34m'usecols'\u001b[0m\u001b[0;34m]\u001b[0m \u001b[0;34m=\u001b[0m \u001b[0mself\u001b[0m\u001b[0;34m.\u001b[0m\u001b[0musecols\u001b[0m\u001b[0;34m\u001b[0m\u001b[0;34m\u001b[0m\u001b[0m\n\u001b[1;32m   1852\u001b[0m \u001b[0;34m\u001b[0m\u001b[0m\n\u001b[0;32m-> 1853\u001b[0;31m         \u001b[0mself\u001b[0m\u001b[0;34m.\u001b[0m\u001b[0m_reader\u001b[0m \u001b[0;34m=\u001b[0m \u001b[0mparsers\u001b[0m\u001b[0;34m.\u001b[0m\u001b[0mTextReader\u001b[0m\u001b[0;34m(\u001b[0m\u001b[0msrc\u001b[0m\u001b[0;34m,\u001b[0m \u001b[0;34m**\u001b[0m\u001b[0mkwds\u001b[0m\u001b[0;34m)\u001b[0m\u001b[0;34m\u001b[0m\u001b[0;34m\u001b[0m\u001b[0m\n\u001b[0m\u001b[1;32m   1854\u001b[0m         \u001b[0mself\u001b[0m\u001b[0;34m.\u001b[0m\u001b[0munnamed_cols\u001b[0m \u001b[0;34m=\u001b[0m \u001b[0mself\u001b[0m\u001b[0;34m.\u001b[0m\u001b[0m_reader\u001b[0m\u001b[0;34m.\u001b[0m\u001b[0munnamed_cols\u001b[0m\u001b[0;34m\u001b[0m\u001b[0;34m\u001b[0m\u001b[0m\n\u001b[1;32m   1855\u001b[0m \u001b[0;34m\u001b[0m\u001b[0m\n",
      "\u001b[0;32mpandas/_libs/parsers.pyx\u001b[0m in \u001b[0;36mpandas._libs.parsers.TextReader.__cinit__\u001b[0;34m()\u001b[0m\n",
      "\u001b[0;32mpandas/_libs/parsers.pyx\u001b[0m in \u001b[0;36mpandas._libs.parsers.TextReader._setup_parser_source\u001b[0;34m()\u001b[0m\n",
      "\u001b[0;31mFileNotFoundError\u001b[0m: [Errno 2] File b'dataset2.csv' does not exist: b'dataset2.csv'"
     ]
    }
   ],
   "source": [
    "### YOUR CODE HERE - Load dataset2.csv and split into 3 equal sets\n",
    "data = pd.read_csv('dataset2.csv', header=None)\n",
    "data = data.iloc[:, :-1]\n",
    "train, valid, test = np.split(data, [int(.33*len(data)), int(.66*len(data))])\n",
    "\n",
    "### YOUR CODE HERE - Sort the data in order for plotting purposes later\n",
    "# We sort the data in order for plotting purposes later\n",
    "train.sort_values(by=[0], inplace=True)\n",
    "valid.sort_values(by=[0], inplace=True)\n",
    "test.sort_values(by=[0], inplace=True)"
   ]
  },
  {
   "cell_type": "markdown",
   "metadata": {},
   "source": [
    "Plot the data below to see what it looks like"
   ]
  },
  {
   "cell_type": "code",
   "execution_count": null,
   "metadata": {},
   "outputs": [],
   "source": [
    "### YOUR CODE HERE - Plot the points for dataset2\n",
    "plt.scatter(train[0], train[1], s=10)\n",
    "plt.show()"
   ]
  },
  {
   "cell_type": "markdown",
   "metadata": {},
   "source": [
    "If done properly, you should see that the points fall under a relatively straight line with minor deviations. Looks like a perfect example to implement a linear regression model using the **gradient descent** method ..... without the use of any machine learning libraries!\n",
    "\n",
    "Since the data falls along a straight line, we can assume the solution follows the form:\n",
    "\n",
    "&nbsp;&nbsp;&nbsp;&nbsp;&nbsp;&nbsp; ** $y(x)$ = $m x$ + $b$ **\n",
    "\n",
    "A reminder that in gradient descent, we essentially want to iteratively get closer to the minimum of our objective function (the mean squared error), such that:\n",
    " \n",
    " &nbsp;&nbsp;&nbsp;&nbsp;&nbsp;&nbsp; ** MSE($w_0$) > MSE($w_1$) > MSE($w_2$) > ...**\n",
    "\n",
    "The algorithm is as follows:\n",
    "\n",
    "&nbsp;&nbsp;&nbsp;&nbsp;&nbsp;&nbsp; ** 1) Pick initial $w_0$ randomnly. **\n",
    "\n",
    "&nbsp;&nbsp;&nbsp;&nbsp;&nbsp;&nbsp; ** 2) For $k=1,2..$ $\\Rightarrow$ $w_{k+1}$ = $w_k$ - $\\alpha$  $g(w_k)$  where $\\alpha > 0$ is the learning rate and $g(w_k)$ is the gradient. **\n",
    "\n",
    "&nbsp;&nbsp;&nbsp;&nbsp;&nbsp;&nbsp; ** End when | $w_k$ + $1$ - $w_k$ | < $\\epsilon$ **\n",
    "\n",
    "\n",
    "Make sure to review the slides, do some research, and/or ask for clarification if this doesn't make sense. There are many resources online for gradient descent. You must understand the underlying math before being able to implement this properly.\n",
    "\n",
    "Now once you understand, it is time to implement the gradient descent below. You may set the learning rate to 1e-6 or whatever value you think is best. As usual, calculate the mean squared error and plot your results. This time, training should be done using the training and validation sets, while the final mean squared error should be computed using the testing set."
   ]
  },
  {
   "cell_type": "code",
   "execution_count": 19,
   "metadata": {},
   "outputs": [
    {
     "name": "stdout",
     "output_type": "stream",
     "text": [
      "2\n",
      "3\n",
      "4\n",
      "5\n",
      "6\n",
      "7\n",
      "8\n",
      "9\n",
      "10\n",
      "11\n",
      "12\n",
      "13\n",
      "14\n",
      "15\n",
      "16\n",
      "17\n",
      "18\n",
      "19\n",
      "20\n",
      "21\n",
      "22\n",
      "23\n",
      "24\n",
      "25\n",
      "26\n",
      "27\n",
      "28\n",
      "29\n",
      "30\n",
      "31\n",
      "32\n",
      "33\n",
      "34\n",
      "35\n",
      "36\n",
      "37\n",
      "38\n",
      "39\n",
      "40\n",
      "41\n",
      "42\n",
      "43\n",
      "44\n",
      "45\n",
      "46\n",
      "47\n",
      "48\n",
      "49\n",
      "50\n",
      "51\n",
      "52\n",
      "53\n",
      "54\n",
      "55\n",
      "56\n",
      "57\n",
      "58\n",
      "59\n",
      "60\n",
      "61\n",
      "62\n",
      "63\n",
      "64\n",
      "65\n",
      "66\n",
      "67\n",
      "68\n",
      "69\n",
      "70\n",
      "71\n",
      "72\n",
      "73\n",
      "74\n",
      "75\n",
      "76\n",
      "77\n",
      "78\n",
      "79\n",
      "80\n",
      "81\n",
      "82\n",
      "83\n",
      "[9.976755987719665, -1.0513407987938987]\n",
      "Mean Squared Error for train set: 25.605800039274843\n"
     ]
    },
    {
     "data": {
      "image/png": "[encoded data removed]",
      "text/plain": [
       "<Figure size 432x288 with 1 Axes>"
      ]
     },
     "metadata": {
      "needs_background": "light"
     },
     "output_type": "display_data"
    },
    {
     "name": "stdout",
     "output_type": "stream",
     "text": [
      "Mean Squared Error for valid set: 37.226633076428705\n"
     ]
    },
    {
     "data": {
      "image/png": "[encoded data removed]",
      "text/plain": [
       "<Figure size 432x288 with 1 Axes>"
      ]
     },
     "metadata": {
      "needs_background": "light"
     },
     "output_type": "display_data"
    }
   ],
   "source": [
    "### YOUR CODE HERE - Implement gradient decent\n",
    "def gradient_decent(X,Y,epsilon=0.0001,learning_rate=0.1):\n",
    "    n=float(len(X))\n",
    "    m=[]\n",
    "    b=[]\n",
    "    m.append(0)\n",
    "    b.append(0)\n",
    "    Y_pre=m[0]*X+b[0]\n",
    "    m.append(m[0]-learning_rate*(-2/n)*sum(X*(Y-Y_pre)))\n",
    "    b.append(b[0]-learning_rate*(-2/n)*sum(Y-Y_pre))\n",
    "    k=1\n",
    "    while abs(m[k]-m[k-1])>=epsilon and abs(b[k]-b[k-1])>=epsilon:\n",
    "        Y_pre=m[k]*X+b[k]\n",
    "        m.append(m[k]-learning_rate*(-2/n)*sum(X*(Y-Y_pre)))\n",
    "        \n",
    "        b.append(b[k]-learning_rate*(-2/n)*sum(Y-Y_pre))\n",
    "        \n",
    "        k=k+1\n",
    "        print(k)\n",
    "    w=[]\n",
    "    w.append(m[k])\n",
    "    w.append(b[k])\n",
    "    print(w)\n",
    "    return w\n",
    "\n",
    "### YOUR CODE HERE - Calculate the the mean squared error and plot the results.\n",
    "train_x=train[0]\n",
    "train_y=train[1]\n",
    "\n",
    "w=gradient_decent(train_x,train_y)\n",
    "train_y_pre=w[0]*train_x+w[1]\n",
    "mse = mean_squared_error(train_y, train_y_pre)\n",
    "print(\"Mean Squared Error for train set: {}\".format(mse))\n",
    "plt.scatter(train_x, train_y, s=10)\n",
    "plt.plot(train_x, train_y_pre, color='r')\n",
    "plt.show()\n",
    "#valid set\n",
    "valid_x=valid[0]\n",
    "valid_y=valid[1]\n",
    "valid_y_pre=w[0]*valid_x+w[1]\n",
    "mse = mean_squared_error(valid_y, valid_y_pre)\n",
    "print(\"Mean Squared Error for valid set: {}\".format(mse))\n",
    "plt.scatter(valid_x, valid_y, s=10)\n",
    "plt.plot(valid_x, valid_y_pre, color='r')\n",
    "plt.show()\n",
    "        "
   ]
  },
  {
   "cell_type": "code",
   "execution_count": null,
   "metadata": {},
   "outputs": [],
   "source": []
  },
  {
   "cell_type": "code",
   "execution_count": null,
   "metadata": {},
   "outputs": [],
   "source": []
  },
  {
   "cell_type": "code",
   "execution_count": null,
   "metadata": {},
   "outputs": [],
   "source": []
  }
 ],
 "metadata": {
  "kernelspec": {
   "display_name": "Python 3",
   "language": "python",
   "name": "python3"
  },
  "language_info": {
   "codemirror_mode": {
    "name": "ipython",
    "version": 3
   },
   "file_extension": ".py",
   "mimetype": "text/x-python",
   "name": "python",
   "nbconvert_exporter": "python",
   "pygments_lexer": "ipython3",
   "version": "3.7.3"
  },
  "toc": {
   "base_numbering": 1,
   "nav_menu": {},
   "number_sections": false,
   "sideBar": false,
   "skip_h1_title": false,
   "title_cell": "Table of Contents",
   "title_sidebar": "Contents",
   "toc_cell": false,
   "toc_position": {},
   "toc_section_display": false,
   "toc_window_display": false
  }
 },
 "nbformat": 4,
 "nbformat_minor": 2
}
