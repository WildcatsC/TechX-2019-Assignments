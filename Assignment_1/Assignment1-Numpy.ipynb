{
 "cells": [
  {
   "cell_type": "markdown",
   "metadata": {},
   "source": [
    "# TechX - Machine Learning Course \n",
    "\n",
    "## Assignment 1 - Python and NumPy"
   ]
  },
  {
   "cell_type": "markdown",
   "metadata": {},
   "source": [
    "This is an introductory assignment to the course. Two fundamental skills that every data scientist must have are math and python. Make sure that you are able to do all of the following questions. If you have trouble, please make sure to ask for help from either the ALs or the mentors. "
   ]
  },
  {
   "cell_type": "code",
   "execution_count": 6,
   "metadata": {},
   "outputs": [],
   "source": [
    "def test_function(function, test_cases, test_cases_answers):\n",
    "    \"\"\"Runs function through test cases\"\"\"\n",
    "    passed = True\n",
    "    \n",
    "    for (case, answer) in zip(test_cases, test_cases_answers):\n",
    "        output = function(case)\n",
    "        if output != answer: \n",
    "            print('Your output: ', output, '\\t Expected output: ', answer)\n",
    "            passed = False\n",
    "    \n",
    "    if passed: \n",
    "        print('Test passed.')\n",
    "    else: \n",
    "        print('Test failed.')"
   ]
  },
  {
   "cell_type": "markdown",
   "metadata": {},
   "source": [
    "## Functions"
   ]
  },
  {
   "cell_type": "markdown",
   "metadata": {},
   "source": [
    "###### 1) Write a function that calculates the average of an array in an iterative way"
   ]
  },
  {
   "cell_type": "code",
   "execution_count": 1,
   "metadata": {},
   "outputs": [],
   "source": [
    "def average(array):\n",
    "    \"\"\" Calculates the average of array. Returns average float\"\"\"\n",
    "    avg = sum(array)/len(array)\n",
    "    return avg\n",
    "    #=============== YOUR CODE HERE ==================="
   ]
  },
  {
   "cell_type": "markdown",
   "metadata": {},
   "source": [
    "Run the next cell to test your function."
   ]
  },
  {
   "cell_type": "code",
   "execution_count": 7,
   "metadata": {},
   "outputs": [
    {
     "name": "stdout",
     "output_type": "stream",
     "text": [
      "Test passed.\n"
     ]
    }
   ],
   "source": [
    "test_cases_average = [[1, 1, 1, 1, 1, 1, 1, 1, 1],\n",
    "              [1, 2, 3, 4, 5, 6, 7, 8, 9, 10],\n",
    "              [0.21780088, 0.4118428,  0.62573827, 0.78184048, 0.96162729, 0.21242742, 0.06843751, 0.70688805, 0.98459559, 0.1153083 ]]\n",
    "\n",
    "test_cases_answers_average = [1, 5.5, 0.508650659]\n",
    "\n",
    "test_function(average, test_cases_average, test_cases_answers_average)"
   ]
  },
  {
   "cell_type": "markdown",
   "metadata": {},
   "source": [
    "### Indexing, Slicing and Iterating"
   ]
  },
  {
   "cell_type": "markdown",
   "metadata": {},
   "source": [
    "###### 2) Extract the username of these emails. Beware, there may be different domains! You want to return the String before '@'.\n",
    "\n",
    "Example: <br>\n",
    "<b>input:</b> 'john.smith@qq.com' <br>\n",
    "<b>return:</b>'john.smith'\n",
    "\n",
    "<b>input:</b> 'jennifer@outlook.com' <br>\n",
    "<b>return:</b>'jennifer' "
   ]
  },
  {
   "cell_type": "code",
   "execution_count": 8,
   "metadata": {},
   "outputs": [],
   "source": [
    "def extract_username(email): \n",
    "    \"\"\"Extracts the username from the input email address. Return username String\"\"\"\n",
    "    list_1 = email.split('@')\n",
    "    return list_1[0]\n",
    "    #=============== YOUR CODE HERE ==================="
   ]
  },
  {
   "cell_type": "markdown",
   "metadata": {},
   "source": [
    "Run the next cell to test your function."
   ]
  },
  {
   "cell_type": "code",
   "execution_count": 9,
   "metadata": {},
   "outputs": [
    {
     "name": "stdout",
     "output_type": "stream",
     "text": [
      "Test passed.\n"
     ]
    }
   ],
   "source": [
    "test_cases_extract_username = ['john-smith@gmail.com',\n",
    "              'this.is.the.username@abcdefghijklmnopqrstuvwxyz',\n",
    "              'invalid-email']\n",
    "\n",
    "test_cases_answers_extract_username = ['john-smith', 'this.is.the.username', 'invalid-email']\n",
    "\n",
    "test_function(extract_username, test_cases_extract_username, test_cases_answers_extract_username) "
   ]
  },
  {
   "cell_type": "markdown",
   "metadata": {},
   "source": [
    "<hr>"
   ]
  },
  {
   "cell_type": "markdown",
   "metadata": {},
   "source": [
    "### Complete the following questions using ONLY NumPy"
   ]
  },
  {
   "cell_type": "markdown",
   "metadata": {},
   "source": [
    "### Linear algebra operations "
   ]
  },
  {
   "cell_type": "markdown",
   "metadata": {},
   "source": [
    "###### 3) Import NumPy Library into your Python environment"
   ]
  },
  {
   "cell_type": "code",
   "execution_count": 13,
   "metadata": {},
   "outputs": [],
   "source": [
    "#=============== YOUR CODE HERE ===================\n",
    "import numpy as np"
   ]
  },
  {
   "cell_type": "markdown",
   "metadata": {},
   "source": [
    "###### 4) Create a 10 element vector, x, of random integers between 10 and 15 (inclusive).  "
   ]
  },
  {
   "cell_type": "code",
   "execution_count": 15,
   "metadata": {},
   "outputs": [
    {
     "name": "stdout",
     "output_type": "stream",
     "text": [
      "[[12. 10. 11. 11. 14.]]\n",
      "14.0\n"
     ]
    }
   ],
   "source": [
    "import random \n",
    "\n",
    "x = np.zeros([1,10])\n",
    "for i in range(10):\n",
    "    x[0][i] = random.randint(10,15)\n",
    "\n",
    "print(x)# YOUR CODE HERE"
   ]
  },
  {
   "cell_type": "code",
   "execution_count": null,
   "metadata": {},
   "outputs": [],
   "source": [
    "# print(max(x[0]))"
   ]
  },
  {
   "cell_type": "code",
   "execution_count": 16,
   "metadata": {},
   "outputs": [
    {
     "name": "stdout",
     "output_type": "stream",
     "text": [
      "(array([4]),)\n"
     ]
    }
   ],
   "source": [
    "###### q) Print out the position of the max value of the array. \n",
    "print(np.where(x[0]==max(x[0])))\n",
    "a = np.where(x[0]==max(x[0])) #a is a tuple"
   ]
  },
  {
   "cell_type": "markdown",
   "metadata": {},
   "source": [
    "###### 5) Create a 10 element vector, y, of 1.  "
   ]
  },
  {
   "cell_type": "code",
   "execution_count": null,
   "metadata": {},
   "outputs": [],
   "source": [
    "y = np.ones([1,10]) # YOUR CODE HERE\n",
    "print(y)"
   ]
  },
  {
   "cell_type": "markdown",
   "metadata": {},
   "source": [
    "###### 6) Add x and y together"
   ]
  },
  {
   "cell_type": "code",
   "execution_count": null,
   "metadata": {},
   "outputs": [],
   "source": [
    "answer = np.add(x,y) # YOUR CODE HERE\n",
    "print(answer)"
   ]
  },
  {
   "cell_type": "markdown",
   "metadata": {},
   "source": [
    "###### 7) Convert the following matrix into a numpy array. "
   ]
  },
  {
   "cell_type": "markdown",
   "metadata": {},
   "source": [
    "$\\begin{bmatrix}\n",
    "5 & 10 & 15\\\\ \n",
    "2 &  13 & 23\n",
    "\\end{bmatrix}$"
   ]
  },
  {
   "cell_type": "code",
   "execution_count": 18,
   "metadata": {},
   "outputs": [
    {
     "name": "stdout",
     "output_type": "stream",
     "text": [
      "[[ 5 10 15]\n",
      " [ 2 13 23]]\n"
     ]
    }
   ],
   "source": [
    "matrix = np.array([[5,10,15],[2,13,23]])# YOUR CODE HERE\n",
    "\n",
    "print(matrix)"
   ]
  },
  {
   "cell_type": "markdown",
   "metadata": {},
   "source": [
    "###### 8) Transpose the matrix. You should get "
   ]
  },
  {
   "cell_type": "markdown",
   "metadata": {},
   "source": [
    "$\\begin{bmatrix}\n",
    "5 & 2 \\\\\n",
    "10 & 13 \\\\\n",
    "15 & 23 \\\\\n",
    "\\end{bmatrix}$"
   ]
  },
  {
   "cell_type": "code",
   "execution_count": 19,
   "metadata": {},
   "outputs": [
    {
     "name": "stdout",
     "output_type": "stream",
     "text": [
      "[[ 5  2]\n",
      " [10 13]\n",
      " [15 23]]\n"
     ]
    }
   ],
   "source": [
    "matrix_T = matrix.T # YOUR CODE HERE\n",
    "print(matrix_T)"
   ]
  },
  {
   "cell_type": "markdown",
   "metadata": {},
   "source": [
    "###### 9) Multiply matrix and matrix_T together. You should get "
   ]
  },
  {
   "cell_type": "markdown",
   "metadata": {},
   "source": [
    "$\\begin{bmatrix}\n",
    "350 & 485 \\\\\n",
    "485 & 702 \n",
    "\\end{bmatrix}$"
   ]
  },
  {
   "cell_type": "code",
   "execution_count": 20,
   "metadata": {},
   "outputs": [
    {
     "name": "stdout",
     "output_type": "stream",
     "text": [
      "[[350 485]\n",
      " [485 702]]\n"
     ]
    }
   ],
   "source": [
    "matrix_square = np.matmul(matrix,matrix_T)# YOUR CODE HERE\n",
    "print(matrix_square)"
   ]
  },
  {
   "cell_type": "markdown",
   "metadata": {},
   "source": [
    "###### q) Print out the determinant of the squared matrix. "
   ]
  },
  {
   "cell_type": "code",
   "execution_count": 21,
   "metadata": {},
   "outputs": [
    {
     "name": "stdout",
     "output_type": "stream",
     "text": [
      "10474.99999999999\n"
     ]
    }
   ],
   "source": [
    "det = np.linalg.det(matrix_square)# YOUR CODE HERE\n",
    "print(det)"
   ]
  },
  {
   "cell_type": "markdown",
   "metadata": {},
   "source": [
    "###### q) Print out the inverse matrix. "
   ]
  },
  {
   "cell_type": "code",
   "execution_count": 22,
   "metadata": {},
   "outputs": [
    {
     "name": "stdout",
     "output_type": "stream",
     "text": [
      "[[ 0.06701671 -0.04630072]\n",
      " [-0.04630072  0.03341289]]\n"
     ]
    }
   ],
   "source": [
    "inv = np.linalg.inv(matrix_square)# YOUR CODE HERE\n",
    "print(inv)"
   ]
  },
  {
   "cell_type": "markdown",
   "metadata": {},
   "source": [
    "###### q) Print out the eigenvectors and the eigenvalues of the squared matrix. "
   ]
  },
  {
   "cell_type": "code",
   "execution_count": 23,
   "metadata": {},
   "outputs": [
    {
     "name": "stdout",
     "output_type": "stream",
     "text": [
      "eigenvalues:  [  10.05329733 1041.94670267]\n",
      "eigenvectors:  [[-0.81887743 -0.57396842]\n",
      " [ 0.57396842 -0.81887743]]\n"
     ]
    }
   ],
   "source": [
    "eigenvalues ,eigenvectors = np.linalg.eig(matrix_square)# YOUR CODE HERE\n",
    "print('eigenvalues: ', eigenvalues)\n",
    "print('eigenvectors: ', eigenvectors)"
   ]
  },
  {
   "cell_type": "markdown",
   "metadata": {},
   "source": [
    "###### q) Check if the eigen properties hold true. "
   ]
  },
  {
   "cell_type": "markdown",
   "metadata": {},
   "source": [
    "Remember that the linear transformation by a matrix on its eigenvectors does not change the direction of the vector, only their lenghts. Eigenvalues are the scalars used to 'stretch' the eigenvectors during the transformation. \n",
    "\n",
    "$ Av = \\lambda v $ "
   ]
  },
  {
   "cell_type": "code",
   "execution_count": 41,
   "metadata": {},
   "outputs": [
    {
     "name": "stdout",
     "output_type": "stream",
     "text": [
      "[-8.23241832  5.77027518] [-8.23241832  5.77027518]\n"
     ]
    }
   ],
   "source": [
    "#=============== YOUR CODE HERE ===================\n",
    "result_1 = np.dot(matrix_square,[eigenvectors[0][0],eigenvectors[1][0]])\n",
    "result_2 = np.dot(eigenvalues[0],[eigenvectors[0][0],eigenvectors[1][0]])\n",
    "print(result_1,result_2)"
   ]
  },
  {
   "cell_type": "markdown",
   "metadata": {},
   "source": [
    "###### 10) Create a 3-element vector with integers of your choice. "
   ]
  },
  {
   "cell_type": "code",
   "execution_count": 40,
   "metadata": {},
   "outputs": [
    {
     "name": "stdout",
     "output_type": "stream",
     "text": [
      "[0. 0. 0.]\n"
     ]
    }
   ],
   "source": [
    "v = np.zeros(3)# YOUR CODE HERE\n",
    "print(v)"
   ]
  },
  {
   "cell_type": "markdown",
   "metadata": {},
   "source": [
    "###### 11) Multiply matrix and v. \n",
    "Be careful, you want to make sure that the dimensions of the two arrays match up. Your vector should therefore be a (3, 1) matrix. Use the <b>shape<b> to see what dimension is <emph>v<emph> and <b>reshape<b> as needed. "
   ]
  },
  {
   "cell_type": "code",
   "execution_count": 42,
   "metadata": {},
   "outputs": [
    {
     "name": "stdout",
     "output_type": "stream",
     "text": [
      "[0. 0.]\n"
     ]
    }
   ],
   "source": [
    "#=============== YOUR CODE HERE ===================\n",
    "answer = np.dot(matrix, v)\n",
    "print(answer)"
   ]
  },
  {
   "cell_type": "markdown",
   "metadata": {},
   "source": [
    "###### 12) Flatten matrix into a 6-element vector. "
   ]
  },
  {
   "cell_type": "code",
   "execution_count": 43,
   "metadata": {},
   "outputs": [
    {
     "name": "stdout",
     "output_type": "stream",
     "text": [
      "[ 5 10 15  2 13 23]\n"
     ]
    }
   ],
   "source": [
    "flatten = matrix.flatten()# YOUR CODE HERE \n",
    "print(flatten)"
   ]
  },
  {
   "cell_type": "markdown",
   "metadata": {},
   "source": [
    "###### 13) Concatenate the following matrices."
   ]
  },
  {
   "cell_type": "markdown",
   "metadata": {},
   "source": [
    "*Note: Don't forget to convert the matrices to numpy arrays first.*"
   ]
  },
  {
   "cell_type": "code",
   "execution_count": 46,
   "metadata": {},
   "outputs": [],
   "source": [
    "matrix1 = [[1, 2, 3, 4, 5], \n",
    "           [6, 7, 8, 9, 10], \n",
    "           [11, 12, 13, 14, 15]]\n",
    "\n",
    "matrix2 = [[16, 17, 18, 19, 20],\n",
    "           [21, 22, 23, 24, 25],\n",
    "           [26, 27, 28, 29, 30]]\n",
    "\n",
    "mat1 = np.array(matrix1)\n",
    "mat2 = np.array(matrix2)"
   ]
  },
  {
   "cell_type": "markdown",
   "metadata": {},
   "source": [
    "a) along axis 0. \n",
    "You should get \n",
    "\n",
    "$\\begin{bmatrix}\n",
    " 1 & 2 & 3 & 4 & 5 \\\\\n",
    " 6 & 7 & 8 & 9 & 10 \\\\\n",
    " 11 & 12 & 13 & 14 & 15 \\\\\n",
    " 16 & 17 & 18 & 19 & 20 \\\\\n",
    " 21 & 22 & 23 & 24 & 25 \\\\\n",
    " 26 & 27 & 28 & 29 & 30\n",
    "\\end{bmatrix}$"
   ]
  },
  {
   "cell_type": "code",
   "execution_count": null,
   "metadata": {},
   "outputs": [],
   "source": [
    "answer = np.concatenate((mat1, mat2), axis=0)# YOUR CODE HERE \n",
    "\n",
    "print(answer)"
   ]
  },
  {
   "cell_type": "markdown",
   "metadata": {},
   "source": [
    "b) along axis 1. You should get\n",
    "\n",
    "$\\begin{bmatrix}\n",
    " 1 & 2 & 3 & 4 & 5 & 16 & 17 & 18 & 19 & 20 \\\\\n",
    " 6 & 7 & 8 & 9 & 10 & 21 & 22 & 23 & 24 & 25 \\\\\n",
    " 11 & 12 & 13 & 14 & 15 & 26 & 27 & 28 & 29 & 30\n",
    "\\end{bmatrix}$"
   ]
  },
  {
   "cell_type": "code",
   "execution_count": 47,
   "metadata": {},
   "outputs": [
    {
     "name": "stdout",
     "output_type": "stream",
     "text": [
      "[[ 1  2  3  4  5 16 17 18 19 20]\n",
      " [ 6  7  8  9 10 21 22 23 24 25]\n",
      " [11 12 13 14 15 26 27 28 29 30]]\n"
     ]
    }
   ],
   "source": [
    "answer = np.concatenate((mat1, mat2), axis=1)# YOUR CODE HERE \n",
    "\n",
    "print(answer)"
   ]
  },
  {
   "cell_type": "markdown",
   "metadata": {},
   "source": [
    "### Basic statistics "
   ]
  },
  {
   "cell_type": "markdown",
   "metadata": {},
   "source": [
    "###### Create a vector $v$ with 30 random integers from 1 to 20. "
   ]
  },
  {
   "cell_type": "code",
   "execution_count": 48,
   "metadata": {},
   "outputs": [
    {
     "name": "stdout",
     "output_type": "stream",
     "text": [
      "[[12 11 11 13  2  7 19 19 18 19 13 17 13  5 18 15  8 12  3 12 12 18  9 11\n",
      "   8 19 17 19  9 16]]\n"
     ]
    }
   ],
   "source": [
    "v = np.random.randint(1,20,[1,30])# YOUR CODE HERE \n",
    "print(v)"
   ]
  },
  {
   "cell_type": "markdown",
   "metadata": {},
   "source": [
    "###### Print out the median of the list $ v $."
   ]
  },
  {
   "cell_type": "code",
   "execution_count": 50,
   "metadata": {},
   "outputs": [
    {
     "name": "stdout",
     "output_type": "stream",
     "text": [
      "12.5\n"
     ]
    }
   ],
   "source": [
    "median = np.median(v)# YOUR CODE HERE \n",
    "print(median)"
   ]
  },
  {
   "cell_type": "markdown",
   "metadata": {},
   "source": [
    "###### Print out the standard deviation of $ v$."
   ]
  },
  {
   "cell_type": "code",
   "execution_count": 51,
   "metadata": {},
   "outputs": [
    {
     "name": "stdout",
     "output_type": "stream",
     "text": [
      "4.892738383450406\n"
     ]
    }
   ],
   "source": [
    "std = np.std(v)# YOUR CODE HERE\n",
    "print(std)"
   ]
  },
  {
   "cell_type": "markdown",
   "metadata": {},
   "source": [
    "###### q) Randomly sample 5 items from the following list."
   ]
  },
  {
   "cell_type": "code",
   "execution_count": 52,
   "metadata": {},
   "outputs": [
    {
     "name": "stdout",
     "output_type": "stream",
     "text": [
      "[0 1 2 3 4 5 6 7 8 9]\n"
     ]
    }
   ],
   "source": [
    "list = np.arange(10) \n",
    "print(list)"
   ]
  },
  {
   "cell_type": "code",
   "execution_count": 53,
   "metadata": {},
   "outputs": [
    {
     "name": "stdout",
     "output_type": "stream",
     "text": [
      "[1 0 9 9 5]\n"
     ]
    }
   ],
   "source": [
    "sample = np.random.choice(list,5)# YOUR CODE HERE \n",
    "print(sample)"
   ]
  },
  {
   "cell_type": "markdown",
   "metadata": {},
   "source": [
    "###### q) Now sample 5 items again from the list, but this time without replacement. \n",
    "If you are sampling with replacement, after each sampling, the item you chose is put into the pool and can be chosen again in following samplings. Whereas, the items are removed from the pool and will not be available again if you are not sampling with replacement. "
   ]
  },
  {
   "cell_type": "code",
   "execution_count": 54,
   "metadata": {},
   "outputs": [
    {
     "name": "stdout",
     "output_type": "stream",
     "text": [
      "[3 9 0 2 8]\n"
     ]
    }
   ],
   "source": [
    "sample = np.random.choice(list,5,replace = False)# YOUR CODE HERE \n",
    "print(sample)"
   ]
  },
  {
   "cell_type": "markdown",
   "metadata": {},
   "source": [
    "### Now it is time for a (small) challenge "
   ]
  },
  {
   "cell_type": "markdown",
   "metadata": {},
   "source": [
    "###### Maximum A Posteriori \n",
    "At a very high level, in Bayesian statistics, MAP is an estimate of an unknown quantity that takes into considerations prior assumptions and past events. \n",
    "For example, in a coin toss, the theoretical assumption is 0.5 probability of face and tail. However, the probability distribution will change based on the previous results of the coin toss.\n",
    "\n",
    "Let $x$ be the random variable of the coin toss, with $x$ = 1 being Head and $x$ = 0 Tail. Let $\\theta$ be the probability of getting 1. Intuitively, suppose you get 3 heads out of 10 tosses, your $\\theta$ value would be $\\theta = \\frac{head}{total} = \\frac{3}{10} = 0.3$.\n",
    "\n",
    "\n",
    "We can model the coin toss with a Bernouilli equation. \n",
    "$\\theta = P(x = 1) = 1 - P(x = 0)$. \n",
    "\n",
    "The probability mass function of $x$ depending on $\\theta$ is then $P(x | \\theta) = \\theta^x (1 - \\theta)^{1-x}$, where $\\theta$ is defined by prior data and updated after each iteration. \n",
    "\n",
    "\n",
    "\n",
    "The formula to estimate the probability is $ \\hat{\\theta}_{MAP}(x) = \\underset{\\theta}{\\mathrm{argmin}} P(x | \\theta) P(\\theta)$\n",
    "\n",
    "You can read more about MAP here: https://wiseodd.github.io/techblog/2017/01/01/mle-vs-map/\n"
   ]
  },
  {
   "cell_type": "markdown",
   "metadata": {},
   "source": [
    "###### Given this, code out a formula that estimates the probability of a BIASED coin landing on HEAD after 20 tosses. \n",
    "\n",
    "Assume that you did not know that coin was biased at the beginning, so start with a $P(x = 1) = 0.5$. \n",
    "Toss your coin with a bias of $P(x = 1) = 0.8$. After each iteration, print out the total number of Tails and Heads you have gotten, and the updated $\\theta$. \n",
    "\n",
    "What do you observe? \n",
    "\n"
   ]
  },
  {
   "cell_type": "code",
   "execution_count": 60,
   "metadata": {},
   "outputs": [
    {
     "name": "stdout",
     "output_type": "stream",
     "text": [
      "toss 1\n",
      "last theta:  0.5\n",
      "new theta:  1.0\n",
      "---------\n",
      "toss 2\n",
      "last theta:  1.0\n",
      "new theta:  1.0\n",
      "---------\n",
      "toss 3\n",
      "last theta:  1.0\n",
      "new theta:  1.0\n",
      "---------\n",
      "toss 4\n",
      "last theta:  1.0\n",
      "new theta:  1.0\n",
      "---------\n",
      "toss 5\n",
      "last theta:  1.0\n",
      "new theta:  0.8\n",
      "---------\n",
      "toss 6\n",
      "last theta:  0.8\n",
      "new theta:  0.8333333333333334\n",
      "---------\n",
      "toss 7\n",
      "last theta:  0.8333333333333334\n",
      "new theta:  0.8571428571428571\n",
      "---------\n",
      "toss 8\n",
      "last theta:  0.8571428571428571\n",
      "new theta:  0.75\n",
      "---------\n",
      "toss 9\n",
      "last theta:  0.75\n",
      "new theta:  0.7777777777777778\n",
      "---------\n",
      "toss 10\n",
      "last theta:  0.7777777777777778\n",
      "new theta:  0.8\n",
      "---------\n",
      "toss 11\n",
      "last theta:  0.8\n",
      "new theta:  0.8181818181818182\n",
      "---------\n",
      "toss 12\n",
      "last theta:  0.8181818181818182\n",
      "new theta:  0.75\n",
      "---------\n",
      "toss 13\n",
      "last theta:  0.75\n",
      "new theta:  0.7692307692307693\n",
      "---------\n",
      "toss 14\n",
      "last theta:  0.7692307692307693\n",
      "new theta:  0.7857142857142857\n",
      "---------\n",
      "toss 15\n",
      "last theta:  0.7857142857142857\n",
      "new theta:  0.7333333333333333\n",
      "---------\n",
      "toss 16\n",
      "last theta:  0.7333333333333333\n",
      "new theta:  0.75\n",
      "---------\n",
      "toss 17\n",
      "last theta:  0.75\n",
      "new theta:  0.7647058823529411\n",
      "---------\n",
      "toss 18\n",
      "last theta:  0.7647058823529411\n",
      "new theta:  0.7222222222222222\n",
      "---------\n",
      "toss 19\n",
      "last theta:  0.7222222222222222\n",
      "new theta:  0.6842105263157895\n",
      "---------\n",
      "toss 20\n",
      "last theta:  0.6842105263157895\n",
      "new theta:  0.7\n",
      "---------\n",
      "toss 21\n",
      "last theta:  0.7\n",
      "new theta:  0.7142857142857143\n",
      "---------\n",
      "toss 22\n",
      "last theta:  0.7142857142857143\n",
      "new theta:  0.7272727272727273\n",
      "---------\n",
      "toss 23\n",
      "last theta:  0.7272727272727273\n",
      "new theta:  0.6956521739130435\n",
      "---------\n",
      "toss 24\n",
      "last theta:  0.6956521739130435\n",
      "new theta:  0.7083333333333334\n",
      "---------\n",
      "toss 25\n",
      "last theta:  0.7083333333333334\n",
      "new theta:  0.72\n",
      "---------\n",
      "toss 26\n",
      "last theta:  0.72\n",
      "new theta:  0.7307692307692307\n",
      "---------\n",
      "toss 27\n",
      "last theta:  0.7307692307692307\n",
      "new theta:  0.7407407407407407\n",
      "---------\n",
      "toss 28\n",
      "last theta:  0.7407407407407407\n",
      "new theta:  0.7142857142857143\n",
      "---------\n",
      "toss 29\n",
      "last theta:  0.7142857142857143\n",
      "new theta:  0.7241379310344828\n",
      "---------\n",
      "toss 30\n",
      "last theta:  0.7241379310344828\n",
      "new theta:  0.7333333333333333\n",
      "---------\n",
      "toss 31\n",
      "last theta:  0.7333333333333333\n",
      "new theta:  0.7419354838709677\n",
      "---------\n",
      "toss 32\n",
      "last theta:  0.7419354838709677\n",
      "new theta:  0.71875\n",
      "---------\n",
      "toss 33\n",
      "last theta:  0.71875\n",
      "new theta:  0.7272727272727273\n",
      "---------\n",
      "toss 34\n",
      "last theta:  0.7272727272727273\n",
      "new theta:  0.7352941176470589\n",
      "---------\n",
      "toss 35\n",
      "last theta:  0.7352941176470589\n",
      "new theta:  0.7428571428571429\n",
      "---------\n",
      "toss 36\n",
      "last theta:  0.7428571428571429\n",
      "new theta:  0.75\n",
      "---------\n",
      "toss 37\n",
      "last theta:  0.75\n",
      "new theta:  0.7297297297297297\n",
      "---------\n",
      "toss 38\n",
      "last theta:  0.7297297297297297\n",
      "new theta:  0.7368421052631579\n",
      "---------\n",
      "toss 39\n",
      "last theta:  0.7368421052631579\n",
      "new theta:  0.7435897435897436\n",
      "---------\n",
      "toss 40\n",
      "last theta:  0.7435897435897436\n",
      "new theta:  0.75\n",
      "---------\n",
      "toss 41\n",
      "last theta:  0.75\n",
      "new theta:  0.7317073170731707\n",
      "---------\n",
      "toss 42\n",
      "last theta:  0.7317073170731707\n",
      "new theta:  0.7380952380952381\n",
      "---------\n",
      "toss 43\n",
      "last theta:  0.7380952380952381\n",
      "new theta:  0.7441860465116279\n",
      "---------\n",
      "toss 44\n",
      "last theta:  0.7441860465116279\n",
      "new theta:  0.75\n",
      "---------\n",
      "toss 45\n",
      "last theta:  0.75\n",
      "new theta:  0.7555555555555555\n",
      "---------\n",
      "toss 46\n",
      "last theta:  0.7555555555555555\n",
      "new theta:  0.7608695652173914\n",
      "---------\n",
      "toss 47\n",
      "last theta:  0.7608695652173914\n",
      "new theta:  0.7659574468085106\n",
      "---------\n",
      "toss 48\n",
      "last theta:  0.7659574468085106\n",
      "new theta:  0.7708333333333334\n",
      "---------\n",
      "toss 49\n",
      "last theta:  0.7708333333333334\n",
      "new theta:  0.7755102040816326\n",
      "---------\n",
      "toss 50\n",
      "last theta:  0.7755102040816326\n",
      "new theta:  0.78\n",
      "---------\n",
      "toss 51\n",
      "last theta:  0.78\n",
      "new theta:  0.7647058823529411\n",
      "---------\n",
      "toss 52\n",
      "last theta:  0.7647058823529411\n",
      "new theta:  0.7692307692307693\n",
      "---------\n",
      "toss 53\n",
      "last theta:  0.7692307692307693\n",
      "new theta:  0.7735849056603774\n",
      "---------\n",
      "toss 54\n",
      "last theta:  0.7735849056603774\n",
      "new theta:  0.7777777777777778\n",
      "---------\n",
      "toss 55\n",
      "last theta:  0.7777777777777778\n",
      "new theta:  0.7636363636363637\n",
      "---------\n",
      "toss 56\n",
      "last theta:  0.7636363636363637\n",
      "new theta:  0.7678571428571429\n",
      "---------\n",
      "toss 57\n",
      "last theta:  0.7678571428571429\n",
      "new theta:  0.7543859649122807\n",
      "---------\n",
      "toss 58\n",
      "last theta:  0.7543859649122807\n",
      "new theta:  0.7586206896551724\n",
      "---------\n",
      "toss 59\n",
      "last theta:  0.7586206896551724\n",
      "new theta:  0.7457627118644068\n",
      "---------\n",
      "toss 60\n",
      "last theta:  0.7457627118644068\n",
      "new theta:  0.75\n",
      "---------\n",
      "toss 61\n",
      "last theta:  0.75\n",
      "new theta:  0.7540983606557377\n",
      "---------\n",
      "toss 62\n",
      "last theta:  0.7540983606557377\n",
      "new theta:  0.7580645161290323\n",
      "---------\n",
      "toss 63\n",
      "last theta:  0.7580645161290323\n",
      "new theta:  0.7619047619047619\n",
      "---------\n",
      "toss 64\n",
      "last theta:  0.7619047619047619\n",
      "new theta:  0.765625\n",
      "---------\n",
      "toss 65\n",
      "last theta:  0.765625\n",
      "new theta:  0.7692307692307693\n",
      "---------\n",
      "toss 66\n",
      "last theta:  0.7692307692307693\n",
      "new theta:  0.7727272727272727\n",
      "---------\n",
      "toss 67\n",
      "last theta:  0.7727272727272727\n",
      "new theta:  0.7761194029850746\n",
      "---------\n",
      "toss 68\n",
      "last theta:  0.7761194029850746\n",
      "new theta:  0.7794117647058824\n",
      "---------\n",
      "toss 69\n",
      "last theta:  0.7794117647058824\n",
      "new theta:  0.782608695652174\n",
      "---------\n",
      "toss 70\n",
      "last theta:  0.782608695652174\n",
      "new theta:  0.7857142857142857\n",
      "---------\n",
      "toss 71\n",
      "last theta:  0.7857142857142857\n",
      "new theta:  0.7887323943661971\n",
      "---------\n",
      "toss 72\n",
      "last theta:  0.7887323943661971\n",
      "new theta:  0.7916666666666666\n",
      "---------\n",
      "toss 73\n",
      "last theta:  0.7916666666666666\n",
      "new theta:  0.7808219178082192\n",
      "---------\n",
      "toss 74\n",
      "last theta:  0.7808219178082192\n",
      "new theta:  0.7702702702702703\n",
      "---------\n",
      "toss 75\n",
      "last theta:  0.7702702702702703\n",
      "new theta:  0.7733333333333333\n",
      "---------\n",
      "toss 76\n",
      "last theta:  0.7733333333333333\n",
      "new theta:  0.7763157894736842\n",
      "---------\n",
      "toss 77\n",
      "last theta:  0.7763157894736842\n",
      "new theta:  0.7792207792207793\n",
      "---------\n",
      "toss 78\n",
      "last theta:  0.7792207792207793\n",
      "new theta:  0.782051282051282\n",
      "---------\n",
      "toss 79\n",
      "last theta:  0.782051282051282\n",
      "new theta:  0.7848101265822784\n",
      "---------\n",
      "toss 80\n",
      "last theta:  0.7848101265822784\n",
      "new theta:  0.7875\n",
      "---------\n",
      "toss 81\n",
      "last theta:  0.7875\n",
      "new theta:  0.7901234567901234\n",
      "---------\n",
      "toss 82\n",
      "last theta:  0.7901234567901234\n",
      "new theta:  0.7926829268292683\n",
      "---------\n",
      "toss 83\n",
      "last theta:  0.7926829268292683\n",
      "new theta:  0.7951807228915663\n",
      "---------\n",
      "toss 84\n",
      "last theta:  0.7951807228915663\n",
      "new theta:  0.7976190476190477\n",
      "---------\n",
      "toss 85\n",
      "last theta:  0.7976190476190477\n",
      "new theta:  0.8\n",
      "---------\n",
      "toss 86\n",
      "last theta:  0.8\n",
      "new theta:  0.8023255813953488\n",
      "---------\n",
      "toss 87\n",
      "last theta:  0.8023255813953488\n",
      "new theta:  0.7931034482758621\n",
      "---------\n",
      "toss 88\n",
      "last theta:  0.7931034482758621\n",
      "new theta:  0.7954545454545454\n",
      "---------\n",
      "toss 89\n",
      "last theta:  0.7954545454545454\n",
      "new theta:  0.797752808988764\n",
      "---------\n",
      "toss 90\n",
      "last theta:  0.797752808988764\n",
      "new theta:  0.8\n",
      "---------\n",
      "toss 91\n",
      "last theta:  0.8\n",
      "new theta:  0.8021978021978022\n",
      "---------\n",
      "toss 92\n",
      "last theta:  0.8021978021978022\n",
      "new theta:  0.8043478260869565\n",
      "---------\n",
      "toss 93\n",
      "last theta:  0.8043478260869565\n",
      "new theta:  0.8064516129032258\n",
      "---------\n",
      "toss 94\n",
      "last theta:  0.8064516129032258\n",
      "new theta:  0.8085106382978723\n",
      "---------\n",
      "toss 95\n",
      "last theta:  0.8085106382978723\n",
      "new theta:  0.8\n",
      "---------\n",
      "toss 96\n",
      "last theta:  0.8\n",
      "new theta:  0.8020833333333334\n",
      "---------\n",
      "toss 97\n",
      "last theta:  0.8020833333333334\n",
      "new theta:  0.8041237113402062\n",
      "---------\n",
      "toss 98\n",
      "last theta:  0.8041237113402062\n",
      "new theta:  0.8061224489795918\n",
      "---------\n",
      "toss 99\n",
      "last theta:  0.8061224489795918\n",
      "new theta:  0.8080808080808081\n",
      "---------\n",
      "toss 100\n",
      "last theta:  0.8080808080808081\n",
      "new theta:  0.8\n",
      "---------\n",
      "toss 101\n",
      "last theta:  0.8\n",
      "new theta:  0.801980198019802\n",
      "---------\n",
      "toss 102\n",
      "last theta:  0.801980198019802\n",
      "new theta:  0.803921568627451\n",
      "---------\n",
      "toss 103\n",
      "last theta:  0.803921568627451\n",
      "new theta:  0.7961165048543689\n",
      "---------\n",
      "toss 104\n",
      "last theta:  0.7961165048543689\n",
      "new theta:  0.7980769230769231\n",
      "---------\n",
      "toss 105\n",
      "last theta:  0.7980769230769231\n",
      "new theta:  0.8\n",
      "---------\n",
      "toss 106\n",
      "last theta:  0.8\n",
      "new theta:  0.8018867924528302\n",
      "---------\n",
      "toss 107\n",
      "last theta:  0.8018867924528302\n",
      "new theta:  0.794392523364486\n",
      "---------\n",
      "toss 108\n",
      "last theta:  0.794392523364486\n",
      "new theta:  0.7962962962962963\n",
      "---------\n",
      "toss 109\n",
      "last theta:  0.7962962962962963\n",
      "new theta:  0.7981651376146789\n",
      "---------\n",
      "toss 110\n",
      "last theta:  0.7981651376146789\n",
      "new theta:  0.8\n",
      "---------\n",
      "toss 111\n",
      "last theta:  0.8\n",
      "new theta:  0.8018018018018018\n",
      "---------\n",
      "toss 112\n",
      "last theta:  0.8018018018018018\n",
      "new theta:  0.8035714285714286\n",
      "---------\n",
      "toss 113\n",
      "last theta:  0.8035714285714286\n",
      "new theta:  0.8053097345132744\n",
      "---------\n",
      "toss 114\n",
      "last theta:  0.8053097345132744\n",
      "new theta:  0.8070175438596491\n",
      "---------\n",
      "toss 115\n",
      "last theta:  0.8070175438596491\n",
      "new theta:  0.808695652173913\n",
      "---------\n",
      "toss 116\n",
      "last theta:  0.808695652173913\n",
      "new theta:  0.8103448275862069\n",
      "---------\n",
      "toss 117\n",
      "last theta:  0.8103448275862069\n",
      "new theta:  0.811965811965812\n",
      "---------\n",
      "toss 118\n",
      "last theta:  0.811965811965812\n",
      "new theta:  0.8135593220338984\n",
      "---------\n",
      "toss 119\n",
      "last theta:  0.8135593220338984\n",
      "new theta:  0.8151260504201681\n",
      "---------\n",
      "toss 120\n",
      "last theta:  0.8151260504201681\n",
      "new theta:  0.8083333333333333\n",
      "---------\n",
      "toss 121\n",
      "last theta:  0.8083333333333333\n",
      "new theta:  0.8016528925619835\n",
      "---------\n",
      "toss 122\n",
      "last theta:  0.8016528925619835\n",
      "new theta:  0.8032786885245902\n",
      "---------\n",
      "toss 123\n",
      "last theta:  0.8032786885245902\n",
      "new theta:  0.8048780487804879\n",
      "---------\n",
      "toss 124\n",
      "last theta:  0.8048780487804879\n",
      "new theta:  0.8064516129032258\n",
      "---------\n",
      "toss 125\n",
      "last theta:  0.8064516129032258\n",
      "new theta:  0.8\n",
      "---------\n",
      "toss 126\n",
      "last theta:  0.8\n",
      "new theta:  0.8015873015873016\n",
      "---------\n",
      "toss 127\n",
      "last theta:  0.8015873015873016\n",
      "new theta:  0.8031496062992126\n",
      "---------\n",
      "toss 128\n",
      "last theta:  0.8031496062992126\n",
      "new theta:  0.8046875\n",
      "---------\n",
      "toss 129\n",
      "last theta:  0.8046875\n",
      "new theta:  0.8062015503875969\n",
      "---------\n",
      "toss 130\n",
      "last theta:  0.8062015503875969\n",
      "new theta:  0.8076923076923077\n",
      "---------\n",
      "toss 131\n",
      "last theta:  0.8076923076923077\n",
      "new theta:  0.8091603053435115\n",
      "---------\n",
      "toss 132\n",
      "last theta:  0.8091603053435115\n",
      "new theta:  0.8106060606060606\n",
      "---------\n",
      "toss 133\n",
      "last theta:  0.8106060606060606\n",
      "new theta:  0.8120300751879699\n",
      "---------\n",
      "toss 134\n",
      "last theta:  0.8120300751879699\n",
      "new theta:  0.8134328358208955\n",
      "---------\n",
      "toss 135\n",
      "last theta:  0.8134328358208955\n",
      "new theta:  0.8148148148148148\n",
      "---------\n",
      "toss 136\n",
      "last theta:  0.8148148148148148\n",
      "new theta:  0.8161764705882353\n",
      "---------\n",
      "toss 137\n",
      "last theta:  0.8161764705882353\n",
      "new theta:  0.8175182481751825\n",
      "---------\n",
      "toss 138\n",
      "last theta:  0.8175182481751825\n",
      "new theta:  0.8188405797101449\n",
      "---------\n",
      "toss 139\n",
      "last theta:  0.8188405797101449\n",
      "new theta:  0.8201438848920863\n",
      "---------\n",
      "toss 140\n",
      "last theta:  0.8201438848920863\n",
      "new theta:  0.8214285714285714\n",
      "---------\n",
      "toss 141\n",
      "last theta:  0.8214285714285714\n",
      "new theta:  0.8156028368794326\n",
      "---------\n",
      "toss 142\n",
      "last theta:  0.8156028368794326\n",
      "new theta:  0.8098591549295775\n",
      "---------\n",
      "toss 143\n",
      "last theta:  0.8098591549295775\n",
      "new theta:  0.8111888111888111\n",
      "---------\n",
      "toss 144\n",
      "last theta:  0.8111888111888111\n",
      "new theta:  0.8125\n",
      "---------\n",
      "toss 145\n",
      "last theta:  0.8125\n",
      "new theta:  0.8068965517241379\n",
      "---------\n",
      "toss 146\n",
      "last theta:  0.8068965517241379\n",
      "new theta:  0.8082191780821918\n",
      "---------\n",
      "toss 147\n",
      "last theta:  0.8082191780821918\n",
      "new theta:  0.8095238095238095\n",
      "---------\n",
      "toss 148\n",
      "last theta:  0.8095238095238095\n",
      "new theta:  0.8108108108108109\n",
      "---------\n",
      "toss 149\n",
      "last theta:  0.8108108108108109\n",
      "new theta:  0.8120805369127517\n",
      "---------\n",
      "toss 150\n",
      "last theta:  0.8120805369127517\n",
      "new theta:  0.8133333333333334\n",
      "---------\n",
      "toss 151\n",
      "last theta:  0.8133333333333334\n",
      "new theta:  0.8145695364238411\n",
      "---------\n",
      "toss 152\n",
      "last theta:  0.8145695364238411\n",
      "new theta:  0.8157894736842105\n",
      "---------\n",
      "toss 153\n",
      "last theta:  0.8157894736842105\n",
      "new theta:  0.8169934640522876\n",
      "---------\n",
      "toss 154\n",
      "last theta:  0.8169934640522876\n",
      "new theta:  0.8181818181818182\n",
      "---------\n",
      "toss 155\n",
      "last theta:  0.8181818181818182\n",
      "new theta:  0.8193548387096774\n",
      "---------\n",
      "toss 156\n",
      "last theta:  0.8193548387096774\n",
      "new theta:  0.8205128205128205\n",
      "---------\n",
      "toss 157\n",
      "last theta:  0.8205128205128205\n",
      "new theta:  0.821656050955414\n",
      "---------\n",
      "toss 158\n",
      "last theta:  0.821656050955414\n",
      "new theta:  0.8227848101265823\n",
      "---------\n",
      "toss 159\n",
      "last theta:  0.8227848101265823\n",
      "new theta:  0.8238993710691824\n",
      "---------\n",
      "toss 160\n",
      "last theta:  0.8238993710691824\n",
      "new theta:  0.825\n",
      "---------\n",
      "toss 161\n",
      "last theta:  0.825\n",
      "new theta:  0.8260869565217391\n",
      "---------\n",
      "toss 162\n",
      "last theta:  0.8260869565217391\n",
      "new theta:  0.8271604938271605\n",
      "---------\n",
      "toss 163\n",
      "last theta:  0.8271604938271605\n",
      "new theta:  0.8282208588957055\n",
      "---------\n",
      "toss 164\n",
      "last theta:  0.8282208588957055\n",
      "new theta:  0.823170731707317\n",
      "---------\n",
      "toss 165\n",
      "last theta:  0.823170731707317\n",
      "new theta:  0.8242424242424242\n",
      "---------\n",
      "toss 166\n",
      "last theta:  0.8242424242424242\n",
      "new theta:  0.8253012048192772\n",
      "---------\n",
      "toss 167\n",
      "last theta:  0.8253012048192772\n",
      "new theta:  0.8263473053892215\n",
      "---------\n",
      "toss 168\n",
      "last theta:  0.8263473053892215\n",
      "new theta:  0.8273809523809523\n",
      "---------\n",
      "toss 169\n",
      "last theta:  0.8273809523809523\n",
      "new theta:  0.8224852071005917\n",
      "---------\n",
      "toss 170\n",
      "last theta:  0.8224852071005917\n",
      "new theta:  0.8235294117647058\n",
      "---------\n",
      "toss 171\n",
      "last theta:  0.8235294117647058\n",
      "new theta:  0.8245614035087719\n",
      "---------\n",
      "toss 172\n",
      "last theta:  0.8245614035087719\n",
      "new theta:  0.8255813953488372\n",
      "---------\n",
      "toss 173\n",
      "last theta:  0.8255813953488372\n",
      "new theta:  0.8265895953757225\n",
      "---------\n",
      "toss 174\n",
      "last theta:  0.8265895953757225\n",
      "new theta:  0.8218390804597702\n",
      "---------\n",
      "toss 175\n",
      "last theta:  0.8218390804597702\n",
      "new theta:  0.8228571428571428\n",
      "---------\n",
      "toss 176\n",
      "last theta:  0.8228571428571428\n",
      "new theta:  0.8238636363636364\n",
      "---------\n",
      "toss 177\n",
      "last theta:  0.8238636363636364\n",
      "new theta:  0.8248587570621468\n",
      "---------\n",
      "toss 178\n",
      "last theta:  0.8248587570621468\n",
      "new theta:  0.8202247191011236\n",
      "---------\n",
      "toss 179\n",
      "last theta:  0.8202247191011236\n",
      "new theta:  0.8212290502793296\n",
      "---------\n",
      "toss 180\n",
      "last theta:  0.8212290502793296\n",
      "new theta:  0.8166666666666667\n",
      "---------\n",
      "toss 181\n",
      "last theta:  0.8166666666666667\n",
      "new theta:  0.8176795580110497\n",
      "---------\n",
      "toss 182\n",
      "last theta:  0.8176795580110497\n",
      "new theta:  0.8186813186813187\n",
      "---------\n",
      "toss 183\n",
      "last theta:  0.8186813186813187\n",
      "new theta:  0.8142076502732241\n",
      "---------\n",
      "toss 184\n",
      "last theta:  0.8142076502732241\n",
      "new theta:  0.8097826086956522\n",
      "---------\n",
      "toss 185\n",
      "last theta:  0.8097826086956522\n",
      "new theta:  0.8108108108108109\n",
      "---------\n",
      "toss 186\n",
      "last theta:  0.8108108108108109\n",
      "new theta:  0.8118279569892473\n",
      "---------\n",
      "toss 187\n",
      "last theta:  0.8118279569892473\n",
      "new theta:  0.8128342245989305\n",
      "---------\n",
      "toss 188\n",
      "last theta:  0.8128342245989305\n",
      "new theta:  0.8138297872340425\n",
      "---------\n",
      "toss 189\n",
      "last theta:  0.8138297872340425\n",
      "new theta:  0.8095238095238095\n",
      "---------\n",
      "toss 190\n",
      "last theta:  0.8095238095238095\n",
      "new theta:  0.8105263157894737\n",
      "---------\n",
      "toss 191\n",
      "last theta:  0.8105263157894737\n",
      "new theta:  0.8115183246073299\n",
      "---------\n",
      "toss 192\n",
      "last theta:  0.8115183246073299\n",
      "new theta:  0.8072916666666666\n",
      "---------\n",
      "toss 193\n",
      "last theta:  0.8072916666666666\n",
      "new theta:  0.8031088082901554\n",
      "---------\n",
      "toss 194\n",
      "last theta:  0.8031088082901554\n",
      "new theta:  0.7989690721649485\n",
      "---------\n",
      "toss 195\n",
      "last theta:  0.7989690721649485\n",
      "new theta:  0.8\n",
      "---------\n",
      "toss 196\n",
      "last theta:  0.8\n",
      "new theta:  0.8010204081632653\n",
      "---------\n",
      "toss 197\n",
      "last theta:  0.8010204081632653\n",
      "new theta:  0.7969543147208121\n",
      "---------\n",
      "toss 198\n",
      "last theta:  0.7969543147208121\n",
      "new theta:  0.797979797979798\n",
      "---------\n",
      "toss 199\n",
      "last theta:  0.797979797979798\n",
      "new theta:  0.7989949748743719\n",
      "---------\n",
      "toss 200\n",
      "last theta:  0.7989949748743719\n",
      "new theta:  0.8\n",
      "---------\n",
      "[1. 1. 1. 1. 0. 1. 1. 0. 1. 1. 1. 0. 1. 1. 0. 1. 1. 0. 0. 1. 1. 1. 0. 1.\n",
      " 1. 1. 1. 0. 1. 1. 1. 0. 1. 1. 1. 1. 0. 1. 1. 1. 0. 1. 1. 1. 1. 1. 1. 1.\n",
      " 1. 1. 0. 1. 1. 1. 0. 1. 0. 1. 0. 1. 1. 1. 1. 1. 1. 1. 1. 1. 1. 1. 1. 1.\n",
      " 0. 0. 1. 1. 1. 1. 1. 1. 1. 1. 1. 1. 1. 1. 0. 1. 1. 1. 1. 1. 1. 1. 0. 1.\n",
      " 1. 1. 1. 0. 1. 1. 0. 1. 1. 1. 0. 1. 1. 1. 1. 1. 1. 1. 1. 1. 1. 1. 1. 0.\n",
      " 0. 1. 1. 1. 0. 1. 1. 1. 1. 1. 1. 1. 1. 1. 1. 1. 1. 1. 1. 1. 0. 0. 1. 1.\n",
      " 0. 1. 1. 1. 1. 1. 1. 1. 1. 1. 1. 1. 1. 1. 1. 1. 1. 1. 1. 0. 1. 1. 1. 1.\n",
      " 0. 1. 1. 1. 1. 0. 1. 1. 1. 0. 1. 0. 1. 1. 0. 0. 1. 1. 1. 1. 0. 1. 1. 0.\n",
      " 0. 0. 1. 1. 0. 1. 1. 1.]\n"
     ]
    }
   ],
   "source": [
    "#=============== YOUR CODE HERE ===================\n",
    "toss = 200\n",
    "total = 0\n",
    "head = 0\n",
    "theta = 0.5\n",
    "sample = np.array([1,1,1,1,1,1,1,1,0,0])\n",
    "res = np.zeros(toss)\n",
    "\n",
    "for i in range(toss):\n",
    "    j=i+1\n",
    "    print(\"toss\",j)\n",
    "    print(\"last theta: \",theta)\n",
    "    if np.random.choice(sample)==1:\n",
    "        head+=1\n",
    "        res[i]=1\n",
    "    total+=1\n",
    "    theta = head/total\n",
    "    print(\"new theta: \",theta)\n",
    "    print(\"---------\")\n",
    "\n",
    "print(res)"
   ]
  },
  {
   "cell_type": "markdown",
   "metadata": {},
   "source": [
    "<div style=\"background-color:#F9F2EB; text-align:left; padding: 10px;\">\n",
    "Your dataset description here: ... "
   ]
  }
 ],
 "metadata": {
  "kernelspec": {
   "display_name": "Python 3",
   "language": "python",
   "name": "python3"
  },
  "language_info": {
   "codemirror_mode": {
    "name": "ipython",
    "version": 3
   },
   "file_extension": ".py",
   "mimetype": "text/x-python",
   "name": "python",
   "nbconvert_exporter": "python",
   "pygments_lexer": "ipython3",
   "version": "3.7.3"
  }
 },
 "nbformat": 4,
 "nbformat_minor": 2
}
